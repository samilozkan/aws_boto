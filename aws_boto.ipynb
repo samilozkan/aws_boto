{
 "cells": [
  {
   "cell_type": "code",
   "execution_count": 1,
   "metadata": {},
   "outputs": [],
   "source": [
    "import boto3\n",
    "import pandas as pd"
   ]
  },
  {
   "cell_type": "code",
   "execution_count": 2,
   "metadata": {},
   "outputs": [
    {
     "data": {
      "text/plain": [
       "'1.26.15'"
      ]
     },
     "execution_count": 2,
     "metadata": {},
     "output_type": "execute_result"
    }
   ],
   "source": [
    "# check if boto3 is installed\n",
    "boto3.__version__"
   ]
  },
  {
   "cell_type": "code",
   "execution_count": 3,
   "metadata": {},
   "outputs": [],
   "source": [
    "from dotenv import load_dotenv\n",
    "import os\n",
    "load_dotenv()\n",
    "#environment variables\n",
    "ACCESS_KEY_ID = os.getenv(\"ACCESS_KEY_ID\")\n",
    "AWS_SECRET_KEY = os.getenv(\"AWS_SECRET_KEY\")\n",
    "\n"
   ]
  },
  {
   "cell_type": "code",
   "execution_count": 4,
   "metadata": {},
   "outputs": [],
   "source": [
    "s3= boto3.client('s3',\n",
    "                 region_name='eu-central-1',\n",
    "                 aws_access_key_id=f'{ACCESS_KEY_ID}',\n",
    "                 aws_secret_access_key=f'{AWS_SECRET_KEY}')"
   ]
  },
  {
   "cell_type": "code",
   "execution_count": 5,
   "metadata": {},
   "outputs": [
    {
     "name": "stdout",
     "output_type": "stream",
     "text": [
      "{'Name': 'my-first-bucket-128341164379', 'CreationDate': datetime.datetime(2022, 11, 24, 14, 2, 29, tzinfo=tzutc())}\n",
      "{'Name': 'samil-aws-config', 'CreationDate': datetime.datetime(2022, 11, 24, 11, 11, 58, tzinfo=tzutc())}\n"
     ]
    }
   ],
   "source": [
    "respose = s3.list_buckets()\n",
    "for bucket in respose['Buckets']:\n",
    "    print(bucket)"
   ]
  },
  {
   "cell_type": "code",
   "execution_count": null,
   "metadata": {},
   "outputs": [],
   "source": [
    "bucket = s3.create_bucket(Bucket='my-first-bucket-128341164379',\n",
    "                          CreateBucketConfiguration={'LocationConstraint': 'eu-central-1'})"
   ]
  },
  {
   "cell_type": "markdown",
   "metadata": {},
   "source": [
    "- Get the buckets from S3.\n",
    "- Iterate over the bucket key from response to access the list of buckets.\n",
    "- Print the name of each bucket."
   ]
  },
  {
   "cell_type": "code",
   "execution_count": 7,
   "metadata": {},
   "outputs": [
    {
     "name": "stdout",
     "output_type": "stream",
     "text": [
      "my-first-bucket-128341164379 2022-11-24 14:02:29+00:00\n",
      "samil-aws-config 2022-11-24 11:11:58+00:00\n"
     ]
    }
   ],
   "source": [
    "response = s3.list_buckets()\n",
    "for bucket in response['Buckets']:\n",
    "    print(bucket['Name'], bucket['CreationDate'])"
   ]
  },
  {
   "cell_type": "code",
   "execution_count": 70,
   "metadata": {},
   "outputs": [],
   "source": [
    "response = s3.delete_bucket(Bucket='my-first-bucket-128341164379')"
   ]
  },
  {
   "cell_type": "code",
   "execution_count": 9,
   "metadata": {},
   "outputs": [],
   "source": [
    "# Delete all the buckets with 'gim', create replacements.\n",
    "for bucket in response['Buckets']:\n",
    "  if 'gim' in bucket['Name']:\n",
    "      s3.delete_bucket(Bucket=bucket['Name'])"
   ]
  },
  {
   "cell_type": "code",
   "execution_count": 13,
   "metadata": {},
   "outputs": [],
   "source": [
    "# Upload a new file.\n",
    "# Filename is the local file path.\n",
    "# Bucket is the name of the bucket.\n",
    "# Key is what we want to call the object in S3.\n",
    "s3.upload_file(Filename= '/Users/ssamilozkan/Desktop/aws_boto/dataset/airports.csv' ,\n",
    "               Bucket= 'my-first-bucket-128341164379' , \n",
    "               Key= 'aiport.csv' )"
   ]
  },
  {
   "cell_type": "code",
   "execution_count": 14,
   "metadata": {},
   "outputs": [
    {
     "name": "stdout",
     "output_type": "stream",
     "text": [
      "aiport.csv 84548 2022-11-25 15:26:52+00:00\n",
      "planes.csv 219326 2022-11-25 14:21:22+00:00\n"
     ]
    }
   ],
   "source": [
    "# List all the objects in the bucket.\n",
    "response = s3.list_objects(Bucket= 'my-first-bucket-128341164379', MaxKeys=2)\n",
    "for obj in response['Contents']:\n",
    "    print(obj['Key'], obj['Size'], obj['LastModified'])"
   ]
  },
  {
   "cell_type": "code",
   "execution_count": 15,
   "metadata": {},
   "outputs": [],
   "source": [
    "# Download the file.\n",
    "# You can see the new file in the current directory.\n",
    "s3.download_file(Filename= '/Users/ssamilozkan/Desktop/aws_boto/dataset/airports2.csv' ,\n",
    "                 Bucket = 'my-first-bucket-128341164379' ,\n",
    "                 Key = 'aiport.csv' )"
   ]
  },
  {
   "cell_type": "code",
   "execution_count": null,
   "metadata": {},
   "outputs": [],
   "source": [
    "# Deleteing objects\n",
    "s3.delete_object(Bucket= 'my-first-bucket-128341164379' , Key= 'aiport.csv' )"
   ]
  },
  {
   "cell_type": "code",
   "execution_count": 17,
   "metadata": {},
   "outputs": [
    {
     "data": {
      "text/plain": [
       "{'ResponseMetadata': {'RequestId': 'XKMSR3GCZ2R03XZA',\n",
       "  'HostId': 'owokeTx7VACJAehcJjyjvBJ4rjkK3pmu6OMHvKc3q9tM9lTe4Kfyrdv7/U7tTlQso1AiQciT+3I=',\n",
       "  'HTTPStatusCode': 200,\n",
       "  'HTTPHeaders': {'x-amz-id-2': 'owokeTx7VACJAehcJjyjvBJ4rjkK3pmu6OMHvKc3q9tM9lTe4Kfyrdv7/U7tTlQso1AiQciT+3I=',\n",
       "   'x-amz-request-id': 'XKMSR3GCZ2R03XZA',\n",
       "   'date': 'Fri, 25 Nov 2022 13:53:42 GMT',\n",
       "   'last-modified': 'Fri, 25 Nov 2022 13:53:36 GMT',\n",
       "   'etag': '\"a31ea87f5412c40ed4907c38478e5c80\"',\n",
       "   'accept-ranges': 'bytes',\n",
       "   'content-type': 'binary/octet-stream',\n",
       "   'server': 'AmazonS3',\n",
       "   'content-length': '84548'},\n",
       "  'RetryAttempts': 0},\n",
       " 'AcceptRanges': 'bytes',\n",
       " 'LastModified': datetime.datetime(2022, 11, 25, 13, 53, 36, tzinfo=tzutc()),\n",
       " 'ContentLength': 84548,\n",
       " 'ETag': '\"a31ea87f5412c40ed4907c38478e5c80\"',\n",
       " 'ContentType': 'binary/octet-stream',\n",
       " 'Metadata': {}}"
      ]
     },
     "execution_count": 17,
     "metadata": {},
     "output_type": "execute_result"
    }
   ],
   "source": [
    "# object metadata\n",
    "s3.head_object(Bucket= 'my-first-bucket-128341164379' , Key= 'aiport.csv' )"
   ]
  },
  {
   "cell_type": "code",
   "execution_count": null,
   "metadata": {},
   "outputs": [],
   "source": [
    "# List only objects that start with '2018/final_'\n",
    "response = s3.list_objects(Bucket='gid-staging', \n",
    "                           Prefix='2018/final_')\n",
    "\n",
    "# Iterate over the objects\n",
    "if 'Contents' in response:\n",
    "  for obj in response['Contents']:\n",
    "      # Delete the object\n",
    "      s3.delete_object(Bucket='gid-staging', Key=obj['Key'])\n",
    "\n",
    "# Print the remaining objects in the bucket\n",
    "response = s3.list_objects(Bucket='gid-staging')\n",
    "\n",
    "for obj in response['Contents']:\n",
    "  \tprint(obj['Key'])"
   ]
  },
  {
   "cell_type": "code",
   "execution_count": 16,
   "metadata": {},
   "outputs": [
    {
     "data": {
      "text/plain": [
       "{'ResponseMetadata': {'RequestId': '91F81RTDBAKKE1CH',\n",
       "  'HostId': 'VV5C77tdB9cs3XRJrLmeyR3mIuHmHXUvzYVk3snHwjwFYR8lvx00opAVnqamTbXbydVVGjLB8ek=',\n",
       "  'HTTPStatusCode': 200,\n",
       "  'HTTPHeaders': {'x-amz-id-2': 'VV5C77tdB9cs3XRJrLmeyR3mIuHmHXUvzYVk3snHwjwFYR8lvx00opAVnqamTbXbydVVGjLB8ek=',\n",
       "   'x-amz-request-id': '91F81RTDBAKKE1CH',\n",
       "   'date': 'Fri, 25 Nov 2022 15:27:15 GMT',\n",
       "   'server': 'AmazonS3',\n",
       "   'content-length': '0'},\n",
       "  'RetryAttempts': 0}}"
      ]
     },
     "execution_count": 16,
     "metadata": {},
     "output_type": "execute_result"
    }
   ],
   "source": [
    "#ACL (Access Control List)\n",
    "# set the ACL to public-read\n",
    "# Now anyone can read the object\n",
    "s3.put_object_acl(Bucket='my-first-bucket-128341164379', Key = 'aiport.csv', ACL='public-read')"
   ]
  },
  {
   "cell_type": "code",
   "execution_count": 17,
   "metadata": {},
   "outputs": [],
   "source": [
    "# Setting the ACLs on upload\n",
    "# upload file with public-read ACL\n",
    "s3.upload_file(Filename= '/Users/ssamilozkan/Desktop/aws_boto/dataset/planes.csv' ,\n",
    "               Bucket= 'my-first-bucket-128341164379' ,\n",
    "               Key= 'planes.csv' ,\n",
    "               ExtraArgs={'ACL': 'public-read'})"
   ]
  },
  {
   "cell_type": "markdown",
   "metadata": {},
   "source": [
    "-  **Accessing the public objects**\n",
    "- URL for Key = `https://{bucket}.s3.{region}.amazonaws.com/{key}` "
   ]
  },
  {
   "cell_type": "code",
   "execution_count": 18,
   "metadata": {},
   "outputs": [],
   "source": [
    "# Generating public object URL\n",
    "url = \"https://{}.s3.{}.amazonaws.com/{}\".format('my-first-bucket-128341164379', 'eu-central-1','planes.csv')"
   ]
  },
  {
   "cell_type": "code",
   "execution_count": 19,
   "metadata": {},
   "outputs": [
    {
     "data": {
      "text/html": [
       "<div>\n",
       "<style scoped>\n",
       "    .dataframe tbody tr th:only-of-type {\n",
       "        vertical-align: middle;\n",
       "    }\n",
       "\n",
       "    .dataframe tbody tr th {\n",
       "        vertical-align: top;\n",
       "    }\n",
       "\n",
       "    .dataframe thead th {\n",
       "        text-align: right;\n",
       "    }\n",
       "</style>\n",
       "<table border=\"1\" class=\"dataframe\">\n",
       "  <thead>\n",
       "    <tr style=\"text-align: right;\">\n",
       "      <th></th>\n",
       "      <th>tailnum</th>\n",
       "      <th>year</th>\n",
       "      <th>type</th>\n",
       "      <th>manufacturer</th>\n",
       "      <th>model</th>\n",
       "      <th>engines</th>\n",
       "      <th>seats</th>\n",
       "      <th>speed</th>\n",
       "      <th>engine</th>\n",
       "    </tr>\n",
       "  </thead>\n",
       "  <tbody>\n",
       "    <tr>\n",
       "      <th>0</th>\n",
       "      <td>N102UW</td>\n",
       "      <td>1998.0</td>\n",
       "      <td>Fixed wing multi engine</td>\n",
       "      <td>AIRBUS INDUSTRIE</td>\n",
       "      <td>A320-214</td>\n",
       "      <td>2</td>\n",
       "      <td>182</td>\n",
       "      <td>NaN</td>\n",
       "      <td>Turbo-fan</td>\n",
       "    </tr>\n",
       "    <tr>\n",
       "      <th>1</th>\n",
       "      <td>N103US</td>\n",
       "      <td>1999.0</td>\n",
       "      <td>Fixed wing multi engine</td>\n",
       "      <td>AIRBUS INDUSTRIE</td>\n",
       "      <td>A320-214</td>\n",
       "      <td>2</td>\n",
       "      <td>182</td>\n",
       "      <td>NaN</td>\n",
       "      <td>Turbo-fan</td>\n",
       "    </tr>\n",
       "    <tr>\n",
       "      <th>2</th>\n",
       "      <td>N104UW</td>\n",
       "      <td>1999.0</td>\n",
       "      <td>Fixed wing multi engine</td>\n",
       "      <td>AIRBUS INDUSTRIE</td>\n",
       "      <td>A320-214</td>\n",
       "      <td>2</td>\n",
       "      <td>182</td>\n",
       "      <td>NaN</td>\n",
       "      <td>Turbo-fan</td>\n",
       "    </tr>\n",
       "    <tr>\n",
       "      <th>3</th>\n",
       "      <td>N105UW</td>\n",
       "      <td>1999.0</td>\n",
       "      <td>Fixed wing multi engine</td>\n",
       "      <td>AIRBUS INDUSTRIE</td>\n",
       "      <td>A320-214</td>\n",
       "      <td>2</td>\n",
       "      <td>182</td>\n",
       "      <td>NaN</td>\n",
       "      <td>Turbo-fan</td>\n",
       "    </tr>\n",
       "    <tr>\n",
       "      <th>4</th>\n",
       "      <td>N107US</td>\n",
       "      <td>1999.0</td>\n",
       "      <td>Fixed wing multi engine</td>\n",
       "      <td>AIRBUS INDUSTRIE</td>\n",
       "      <td>A320-214</td>\n",
       "      <td>2</td>\n",
       "      <td>182</td>\n",
       "      <td>NaN</td>\n",
       "      <td>Turbo-fan</td>\n",
       "    </tr>\n",
       "  </tbody>\n",
       "</table>\n",
       "</div>"
      ],
      "text/plain": [
       "  tailnum    year                     type      manufacturer     model  \\\n",
       "0  N102UW  1998.0  Fixed wing multi engine  AIRBUS INDUSTRIE  A320-214   \n",
       "1  N103US  1999.0  Fixed wing multi engine  AIRBUS INDUSTRIE  A320-214   \n",
       "2  N104UW  1999.0  Fixed wing multi engine  AIRBUS INDUSTRIE  A320-214   \n",
       "3  N105UW  1999.0  Fixed wing multi engine  AIRBUS INDUSTRIE  A320-214   \n",
       "4  N107US  1999.0  Fixed wing multi engine  AIRBUS INDUSTRIE  A320-214   \n",
       "\n",
       "   engines  seats  speed     engine  \n",
       "0        2    182    NaN  Turbo-fan  \n",
       "1        2    182    NaN  Turbo-fan  \n",
       "2        2    182    NaN  Turbo-fan  \n",
       "3        2    182    NaN  Turbo-fan  \n",
       "4        2    182    NaN  Turbo-fan  "
      ]
     },
     "execution_count": 19,
     "metadata": {},
     "output_type": "execute_result"
    }
   ],
   "source": [
    "# read the URL into a pandas dataframe\n",
    "df = pd.read_csv(url)\n",
    "df.head()"
   ]
  },
  {
   "cell_type": "code",
   "execution_count": 20,
   "metadata": {},
   "outputs": [
    {
     "data": {
      "text/plain": [
       "{'ResponseMetadata': {'RequestId': 'APZJX07X13NJZZD0',\n",
       "  'HostId': 'P042/mL6PneYn4izlB8TYFVNpiZCc1XlPXYmK80sW4w6AcLwYRnBdYM3vf2Awz83fxz9P9PG9Yk=',\n",
       "  'HTTPStatusCode': 200,\n",
       "  'HTTPHeaders': {'x-amz-id-2': 'P042/mL6PneYn4izlB8TYFVNpiZCc1XlPXYmK80sW4w6AcLwYRnBdYM3vf2Awz83fxz9P9PG9Yk=',\n",
       "   'x-amz-request-id': 'APZJX07X13NJZZD0',\n",
       "   'date': 'Fri, 25 Nov 2022 15:27:26 GMT',\n",
       "   'server': 'AmazonS3',\n",
       "   'content-length': '0'},\n",
       "  'RetryAttempts': 0}}"
      ]
     },
     "execution_count": 20,
     "metadata": {},
     "output_type": "execute_result"
    }
   ],
   "source": [
    "# Set the ACL to private\n",
    "s3.put_object_acl(Bucket = 'my-first-bucket-128341164379', Key = 'planes.csv', ACL='private')"
   ]
  },
  {
   "cell_type": "code",
   "execution_count": null,
   "metadata": {},
   "outputs": [],
   "source": []
  }
 ],
 "metadata": {
  "kernelspec": {
   "display_name": "Python 3.10.6 ('pvenv': venv)",
   "language": "python",
   "name": "python3"
  },
  "language_info": {
   "codemirror_mode": {
    "name": "ipython",
    "version": 3
   },
   "file_extension": ".py",
   "mimetype": "text/x-python",
   "name": "python",
   "nbconvert_exporter": "python",
   "pygments_lexer": "ipython3",
   "version": "3.10.6"
  },
  "orig_nbformat": 4,
  "vscode": {
   "interpreter": {
    "hash": "70f52df3629032df417c275848baf52e11c1f5ebc407e80c94db62ac8b07ff2d"
   }
  }
 },
 "nbformat": 4,
 "nbformat_minor": 2
}
