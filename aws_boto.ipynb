{
 "cells": [
  {
   "cell_type": "markdown",
   "metadata": {},
   "source": [
    "# Putting Files in the Cloud!"
   ]
  },
  {
   "cell_type": "code",
   "execution_count": 2,
   "metadata": {},
   "outputs": [],
   "source": [
    "import boto3\n",
    "import pandas as pd"
   ]
  },
  {
   "cell_type": "code",
   "execution_count": 3,
   "metadata": {},
   "outputs": [
    {
     "data": {
      "text/plain": [
       "'1.26.15'"
      ]
     },
     "execution_count": 3,
     "metadata": {},
     "output_type": "execute_result"
    }
   ],
   "source": [
    "# check if boto3 is installed\n",
    "boto3.__version__"
   ]
  },
  {
   "cell_type": "code",
   "execution_count": 4,
   "metadata": {},
   "outputs": [],
   "source": [
    "from dotenv import load_dotenv\n",
    "import os\n",
    "load_dotenv()\n",
    "#environment variables\n",
    "ACCESS_KEY_ID = os.getenv(\"ACCESS_KEY_ID\")\n",
    "AWS_SECRET_KEY = os.getenv(\"AWS_SECRET_KEY\")\n",
    "\n"
   ]
  },
  {
   "cell_type": "code",
   "execution_count": 65,
   "metadata": {},
   "outputs": [],
   "source": [
    "s3= boto3.client('s3',\n",
    "                 region_name='eu-central-1',\n",
    "                 aws_access_key_id=f'{ACCESS_KEY_ID}',\n",
    "                 aws_secret_access_key=f'{AWS_SECRET_KEY}')"
   ]
  },
  {
   "cell_type": "code",
   "execution_count": 6,
   "metadata": {},
   "outputs": [
    {
     "name": "stdout",
     "output_type": "stream",
     "text": [
      "{'Name': 'my-first-bucket-128341164379', 'CreationDate': datetime.datetime(2022, 11, 24, 14, 2, 29, tzinfo=tzutc())}\n",
      "{'Name': 'samil-aws-config', 'CreationDate': datetime.datetime(2022, 11, 24, 11, 11, 58, tzinfo=tzutc())}\n"
     ]
    }
   ],
   "source": [
    "respose = s3.list_buckets()\n",
    "for bucket in respose['Buckets']:\n",
    "    print(bucket)"
   ]
  },
  {
   "cell_type": "code",
   "execution_count": null,
   "metadata": {},
   "outputs": [],
   "source": [
    "bucket = s3.create_bucket(Bucket='my-first-bucket-128341164379',\n",
    "                          CreateBucketConfiguration={'LocationConstraint': 'eu-central-1'})"
   ]
  },
  {
   "cell_type": "markdown",
   "metadata": {},
   "source": [
    "- Get the buckets from S3.\n",
    "- Iterate over the bucket key from response to access the list of buckets.\n",
    "- Print the name of each bucket."
   ]
  },
  {
   "cell_type": "code",
   "execution_count": 7,
   "metadata": {},
   "outputs": [
    {
     "name": "stdout",
     "output_type": "stream",
     "text": [
      "my-first-bucket-128341164379 2022-11-24 14:02:29+00:00\n",
      "samil-aws-config 2022-11-24 11:11:58+00:00\n"
     ]
    }
   ],
   "source": [
    "response = s3.list_buckets()\n",
    "for bucket in response['Buckets']:\n",
    "    print(bucket['Name'], bucket['CreationDate'])"
   ]
  },
  {
   "cell_type": "code",
   "execution_count": 70,
   "metadata": {},
   "outputs": [],
   "source": [
    "response = s3.delete_bucket(Bucket='my-first-bucket-128341164379')"
   ]
  },
  {
   "cell_type": "code",
   "execution_count": 9,
   "metadata": {},
   "outputs": [],
   "source": [
    "# Delete all the buckets with 'gim', create replacements.\n",
    "for bucket in response['Buckets']:\n",
    "  if 'gim' in bucket['Name']:\n",
    "      s3.delete_bucket(Bucket=bucket['Name'])"
   ]
  },
  {
   "cell_type": "code",
   "execution_count": 13,
   "metadata": {},
   "outputs": [],
   "source": [
    "# Upload a new file.\n",
    "# Filename is the local file path.\n",
    "# Bucket is the name of the bucket.\n",
    "# Key is what we want to call the object in S3.\n",
    "s3.upload_file(Filename= '/Users/ssamilozkan/Desktop/aws_boto/dataset/airports.csv' ,\n",
    "               Bucket= 'my-first-bucket-128341164379' , \n",
    "               Key= 'aiport.csv' )"
   ]
  },
  {
   "cell_type": "code",
   "execution_count": 14,
   "metadata": {},
   "outputs": [
    {
     "name": "stdout",
     "output_type": "stream",
     "text": [
      "aiport.csv 84548 2022-11-25 15:26:52+00:00\n",
      "planes.csv 219326 2022-11-25 14:21:22+00:00\n"
     ]
    }
   ],
   "source": [
    "# List all the objects in the bucket.\n",
    "response = s3.list_objects(Bucket= 'my-first-bucket-128341164379', MaxKeys=2)\n",
    "for obj in response['Contents']:\n",
    "    print(obj['Key'], obj['Size'], obj['LastModified'])"
   ]
  },
  {
   "cell_type": "code",
   "execution_count": 15,
   "metadata": {},
   "outputs": [],
   "source": [
    "# Download the file.\n",
    "# You can see the new file in the current directory.\n",
    "s3.download_file(Filename= '/Users/ssamilozkan/Desktop/aws_boto/dataset/airports2.csv' ,\n",
    "                 Bucket = 'my-first-bucket-128341164379' ,\n",
    "                 Key = 'aiport.csv' )"
   ]
  },
  {
   "cell_type": "code",
   "execution_count": null,
   "metadata": {},
   "outputs": [],
   "source": [
    "# Deleteing objects\n",
    "s3.delete_object(Bucket= 'my-first-bucket-128341164379' , Key= 'aiport.csv' )"
   ]
  },
  {
   "cell_type": "code",
   "execution_count": 17,
   "metadata": {},
   "outputs": [
    {
     "data": {
      "text/plain": [
       "{'ResponseMetadata': {'RequestId': 'XKMSR3GCZ2R03XZA',\n",
       "  'HostId': 'owokeTx7VACJAehcJjyjvBJ4rjkK3pmu6OMHvKc3q9tM9lTe4Kfyrdv7/U7tTlQso1AiQciT+3I=',\n",
       "  'HTTPStatusCode': 200,\n",
       "  'HTTPHeaders': {'x-amz-id-2': 'owokeTx7VACJAehcJjyjvBJ4rjkK3pmu6OMHvKc3q9tM9lTe4Kfyrdv7/U7tTlQso1AiQciT+3I=',\n",
       "   'x-amz-request-id': 'XKMSR3GCZ2R03XZA',\n",
       "   'date': 'Fri, 25 Nov 2022 13:53:42 GMT',\n",
       "   'last-modified': 'Fri, 25 Nov 2022 13:53:36 GMT',\n",
       "   'etag': '\"a31ea87f5412c40ed4907c38478e5c80\"',\n",
       "   'accept-ranges': 'bytes',\n",
       "   'content-type': 'binary/octet-stream',\n",
       "   'server': 'AmazonS3',\n",
       "   'content-length': '84548'},\n",
       "  'RetryAttempts': 0},\n",
       " 'AcceptRanges': 'bytes',\n",
       " 'LastModified': datetime.datetime(2022, 11, 25, 13, 53, 36, tzinfo=tzutc()),\n",
       " 'ContentLength': 84548,\n",
       " 'ETag': '\"a31ea87f5412c40ed4907c38478e5c80\"',\n",
       " 'ContentType': 'binary/octet-stream',\n",
       " 'Metadata': {}}"
      ]
     },
     "execution_count": 17,
     "metadata": {},
     "output_type": "execute_result"
    }
   ],
   "source": [
    "# object metadata\n",
    "s3.head_object(Bucket= 'my-first-bucket-128341164379' , Key= 'aiport.csv' )"
   ]
  },
  {
   "cell_type": "code",
   "execution_count": null,
   "metadata": {},
   "outputs": [],
   "source": [
    "# List only objects that start with '2018/final_'\n",
    "response = s3.list_objects(Bucket='gid-staging', \n",
    "                           Prefix='2018/final_')\n",
    "\n",
    "# Iterate over the objects\n",
    "if 'Contents' in response:\n",
    "  for obj in response['Contents']:\n",
    "      # Delete the object\n",
    "      s3.delete_object(Bucket='gid-staging', Key=obj['Key'])\n",
    "\n",
    "# Print the remaining objects in the bucket\n",
    "response = s3.list_objects(Bucket='gid-staging')\n",
    "\n",
    "for obj in response['Contents']:\n",
    "  \tprint(obj['Key'])"
   ]
  },
  {
   "cell_type": "code",
   "execution_count": 16,
   "metadata": {},
   "outputs": [
    {
     "data": {
      "text/plain": [
       "{'ResponseMetadata': {'RequestId': '91F81RTDBAKKE1CH',\n",
       "  'HostId': 'VV5C77tdB9cs3XRJrLmeyR3mIuHmHXUvzYVk3snHwjwFYR8lvx00opAVnqamTbXbydVVGjLB8ek=',\n",
       "  'HTTPStatusCode': 200,\n",
       "  'HTTPHeaders': {'x-amz-id-2': 'VV5C77tdB9cs3XRJrLmeyR3mIuHmHXUvzYVk3snHwjwFYR8lvx00opAVnqamTbXbydVVGjLB8ek=',\n",
       "   'x-amz-request-id': '91F81RTDBAKKE1CH',\n",
       "   'date': 'Fri, 25 Nov 2022 15:27:15 GMT',\n",
       "   'server': 'AmazonS3',\n",
       "   'content-length': '0'},\n",
       "  'RetryAttempts': 0}}"
      ]
     },
     "execution_count": 16,
     "metadata": {},
     "output_type": "execute_result"
    }
   ],
   "source": [
    "#ACL (Access Control List)\n",
    "# set the ACL to public-read\n",
    "# Now anyone can read the object\n",
    "s3.put_object_acl(Bucket='my-first-bucket-128341164379', Key = 'aiport.csv', ACL='public-read')"
   ]
  },
  {
   "cell_type": "code",
   "execution_count": 17,
   "metadata": {},
   "outputs": [],
   "source": [
    "# Setting the ACLs on upload\n",
    "# upload file with public-read ACL\n",
    "s3.upload_file(Filename= '/Users/ssamilozkan/Desktop/aws_boto/dataset/planes.csv' ,\n",
    "               Bucket= 'my-first-bucket-128341164379' ,\n",
    "               Key= 'planes.csv' ,\n",
    "               ExtraArgs={'ACL': 'public-read'})"
   ]
  },
  {
   "cell_type": "markdown",
   "metadata": {},
   "source": [
    "-  **Accessing the public objects**\n",
    "- URL for Key = `https://{bucket}.s3.{region}.amazonaws.com/{key}` "
   ]
  },
  {
   "cell_type": "code",
   "execution_count": 18,
   "metadata": {},
   "outputs": [],
   "source": [
    "# Generating public object URL\n",
    "url = \"https://{}.s3.{}.amazonaws.com/{}\".format('my-first-bucket-128341164379', 'eu-central-1','planes.csv')"
   ]
  },
  {
   "cell_type": "code",
   "execution_count": 19,
   "metadata": {},
   "outputs": [
    {
     "data": {
      "text/html": [
       "<div>\n",
       "<style scoped>\n",
       "    .dataframe tbody tr th:only-of-type {\n",
       "        vertical-align: middle;\n",
       "    }\n",
       "\n",
       "    .dataframe tbody tr th {\n",
       "        vertical-align: top;\n",
       "    }\n",
       "\n",
       "    .dataframe thead th {\n",
       "        text-align: right;\n",
       "    }\n",
       "</style>\n",
       "<table border=\"1\" class=\"dataframe\">\n",
       "  <thead>\n",
       "    <tr style=\"text-align: right;\">\n",
       "      <th></th>\n",
       "      <th>tailnum</th>\n",
       "      <th>year</th>\n",
       "      <th>type</th>\n",
       "      <th>manufacturer</th>\n",
       "      <th>model</th>\n",
       "      <th>engines</th>\n",
       "      <th>seats</th>\n",
       "      <th>speed</th>\n",
       "      <th>engine</th>\n",
       "    </tr>\n",
       "  </thead>\n",
       "  <tbody>\n",
       "    <tr>\n",
       "      <th>0</th>\n",
       "      <td>N102UW</td>\n",
       "      <td>1998.0</td>\n",
       "      <td>Fixed wing multi engine</td>\n",
       "      <td>AIRBUS INDUSTRIE</td>\n",
       "      <td>A320-214</td>\n",
       "      <td>2</td>\n",
       "      <td>182</td>\n",
       "      <td>NaN</td>\n",
       "      <td>Turbo-fan</td>\n",
       "    </tr>\n",
       "    <tr>\n",
       "      <th>1</th>\n",
       "      <td>N103US</td>\n",
       "      <td>1999.0</td>\n",
       "      <td>Fixed wing multi engine</td>\n",
       "      <td>AIRBUS INDUSTRIE</td>\n",
       "      <td>A320-214</td>\n",
       "      <td>2</td>\n",
       "      <td>182</td>\n",
       "      <td>NaN</td>\n",
       "      <td>Turbo-fan</td>\n",
       "    </tr>\n",
       "    <tr>\n",
       "      <th>2</th>\n",
       "      <td>N104UW</td>\n",
       "      <td>1999.0</td>\n",
       "      <td>Fixed wing multi engine</td>\n",
       "      <td>AIRBUS INDUSTRIE</td>\n",
       "      <td>A320-214</td>\n",
       "      <td>2</td>\n",
       "      <td>182</td>\n",
       "      <td>NaN</td>\n",
       "      <td>Turbo-fan</td>\n",
       "    </tr>\n",
       "    <tr>\n",
       "      <th>3</th>\n",
       "      <td>N105UW</td>\n",
       "      <td>1999.0</td>\n",
       "      <td>Fixed wing multi engine</td>\n",
       "      <td>AIRBUS INDUSTRIE</td>\n",
       "      <td>A320-214</td>\n",
       "      <td>2</td>\n",
       "      <td>182</td>\n",
       "      <td>NaN</td>\n",
       "      <td>Turbo-fan</td>\n",
       "    </tr>\n",
       "    <tr>\n",
       "      <th>4</th>\n",
       "      <td>N107US</td>\n",
       "      <td>1999.0</td>\n",
       "      <td>Fixed wing multi engine</td>\n",
       "      <td>AIRBUS INDUSTRIE</td>\n",
       "      <td>A320-214</td>\n",
       "      <td>2</td>\n",
       "      <td>182</td>\n",
       "      <td>NaN</td>\n",
       "      <td>Turbo-fan</td>\n",
       "    </tr>\n",
       "  </tbody>\n",
       "</table>\n",
       "</div>"
      ],
      "text/plain": [
       "  tailnum    year                     type      manufacturer     model  \\\n",
       "0  N102UW  1998.0  Fixed wing multi engine  AIRBUS INDUSTRIE  A320-214   \n",
       "1  N103US  1999.0  Fixed wing multi engine  AIRBUS INDUSTRIE  A320-214   \n",
       "2  N104UW  1999.0  Fixed wing multi engine  AIRBUS INDUSTRIE  A320-214   \n",
       "3  N105UW  1999.0  Fixed wing multi engine  AIRBUS INDUSTRIE  A320-214   \n",
       "4  N107US  1999.0  Fixed wing multi engine  AIRBUS INDUSTRIE  A320-214   \n",
       "\n",
       "   engines  seats  speed     engine  \n",
       "0        2    182    NaN  Turbo-fan  \n",
       "1        2    182    NaN  Turbo-fan  \n",
       "2        2    182    NaN  Turbo-fan  \n",
       "3        2    182    NaN  Turbo-fan  \n",
       "4        2    182    NaN  Turbo-fan  "
      ]
     },
     "execution_count": 19,
     "metadata": {},
     "output_type": "execute_result"
    }
   ],
   "source": [
    "# read the URL into a pandas dataframe\n",
    "df = pd.read_csv(url)\n",
    "df.head()"
   ]
  },
  {
   "cell_type": "code",
   "execution_count": 11,
   "metadata": {},
   "outputs": [
    {
     "data": {
      "text/plain": [
       "{'ResponseMetadata': {'RequestId': '1ZXGV8693THA3PES',\n",
       "  'HostId': 'NtaJXDawSroYmLJsTeOBEPBclVKLPtf/PXM+HhnOxphGKNIAxKg5s0ngw8SRnI5apAbL5XMCHJA=',\n",
       "  'HTTPStatusCode': 200,\n",
       "  'HTTPHeaders': {'x-amz-id-2': 'NtaJXDawSroYmLJsTeOBEPBclVKLPtf/PXM+HhnOxphGKNIAxKg5s0ngw8SRnI5apAbL5XMCHJA=',\n",
       "   'x-amz-request-id': '1ZXGV8693THA3PES',\n",
       "   'date': 'Sun, 27 Nov 2022 15:39:59 GMT',\n",
       "   'server': 'AmazonS3',\n",
       "   'content-length': '0'},\n",
       "  'RetryAttempts': 0}}"
      ]
     },
     "execution_count": 11,
     "metadata": {},
     "output_type": "execute_result"
    }
   ],
   "source": [
    "# Set the ACL to private\n",
    "s3.put_object_acl(Bucket = 'my-first-bucket-128341164379', Key = 'planes.csv', ACL='private')"
   ]
  },
  {
   "cell_type": "code",
   "execution_count": 9,
   "metadata": {},
   "outputs": [
    {
     "name": "stdout",
     "output_type": "stream",
     "text": [
      "https://my-first-bucket-128341164379.s3.amazonaws.com/planes.csv\n"
     ]
    }
   ],
   "source": [
    "# List only objects that start with 'p'\n",
    "response = s3.list_objects(\n",
    "    Bucket='my-first-bucket-128341164379', Prefix='p')\n",
    "\n",
    "# Iterate over the objects\n",
    "for obj in response['Contents']:\n",
    "  \n",
    "    # Give each object ACL of public-read\n",
    "    s3.put_object_acl(Bucket='my-first-bucket-128341164379', \n",
    "                      Key=obj['Key'], \n",
    "                      ACL='public-read')\n",
    "    \n",
    "    # Print the Public Object URL for each object\n",
    "    print(\"https://{}.s3.amazonaws.com/{}\".format('my-first-bucket-128341164379', obj['Key']))"
   ]
  },
  {
   "cell_type": "code",
   "execution_count": 13,
   "metadata": {},
   "outputs": [
    {
     "name": "stdout",
     "output_type": "stream",
     "text": [
      "{'ResponseMetadata': {'RequestId': '85E743HSCS72P3NY', 'HostId': 'BvaBfgHEPgNpbFnNAx5eE9s+et0ww4JxLoNJLSepapl4rgj48ZWDdL7/o5m5EnIF80KFETFVzWc=', 'HTTPStatusCode': 200, 'HTTPHeaders': {'x-amz-id-2': 'BvaBfgHEPgNpbFnNAx5eE9s+et0ww4JxLoNJLSepapl4rgj48ZWDdL7/o5m5EnIF80KFETFVzWc=', 'x-amz-request-id': '85E743HSCS72P3NY', 'date': 'Sun, 27 Nov 2022 15:41:09 GMT', 'last-modified': 'Fri, 25 Nov 2022 15:27:19 GMT', 'etag': '\"42949138987d62284b36668386cefb76\"', 'accept-ranges': 'bytes', 'content-type': 'binary/octet-stream', 'server': 'AmazonS3', 'content-length': '219326'}, 'RetryAttempts': 0}, 'AcceptRanges': 'bytes', 'LastModified': datetime.datetime(2022, 11, 25, 15, 27, 19, tzinfo=tzutc()), 'ContentLength': 219326, 'ETag': '\"42949138987d62284b36668386cefb76\"', 'ContentType': 'binary/octet-stream', 'Metadata': {}, 'Body': <botocore.response.StreamingBody object at 0x11fcf4eb0>}\n"
     ]
    }
   ],
   "source": [
    "# Accessing private objects\n",
    "obj = s3.get_object(Bucket='my-first-bucket-128341164379', Key='planes.csv')\n",
    "# print(obj['Body'].read())\n",
    "print(obj)"
   ]
  },
  {
   "cell_type": "code",
   "execution_count": 14,
   "metadata": {},
   "outputs": [
    {
     "data": {
      "text/html": [
       "<div>\n",
       "<style scoped>\n",
       "    .dataframe tbody tr th:only-of-type {\n",
       "        vertical-align: middle;\n",
       "    }\n",
       "\n",
       "    .dataframe tbody tr th {\n",
       "        vertical-align: top;\n",
       "    }\n",
       "\n",
       "    .dataframe thead th {\n",
       "        text-align: right;\n",
       "    }\n",
       "</style>\n",
       "<table border=\"1\" class=\"dataframe\">\n",
       "  <thead>\n",
       "    <tr style=\"text-align: right;\">\n",
       "      <th></th>\n",
       "      <th>tailnum</th>\n",
       "      <th>year</th>\n",
       "      <th>type</th>\n",
       "      <th>manufacturer</th>\n",
       "      <th>model</th>\n",
       "      <th>engines</th>\n",
       "      <th>seats</th>\n",
       "      <th>speed</th>\n",
       "      <th>engine</th>\n",
       "    </tr>\n",
       "  </thead>\n",
       "  <tbody>\n",
       "    <tr>\n",
       "      <th>0</th>\n",
       "      <td>N102UW</td>\n",
       "      <td>1998.0</td>\n",
       "      <td>Fixed wing multi engine</td>\n",
       "      <td>AIRBUS INDUSTRIE</td>\n",
       "      <td>A320-214</td>\n",
       "      <td>2</td>\n",
       "      <td>182</td>\n",
       "      <td>NaN</td>\n",
       "      <td>Turbo-fan</td>\n",
       "    </tr>\n",
       "    <tr>\n",
       "      <th>1</th>\n",
       "      <td>N103US</td>\n",
       "      <td>1999.0</td>\n",
       "      <td>Fixed wing multi engine</td>\n",
       "      <td>AIRBUS INDUSTRIE</td>\n",
       "      <td>A320-214</td>\n",
       "      <td>2</td>\n",
       "      <td>182</td>\n",
       "      <td>NaN</td>\n",
       "      <td>Turbo-fan</td>\n",
       "    </tr>\n",
       "    <tr>\n",
       "      <th>2</th>\n",
       "      <td>N104UW</td>\n",
       "      <td>1999.0</td>\n",
       "      <td>Fixed wing multi engine</td>\n",
       "      <td>AIRBUS INDUSTRIE</td>\n",
       "      <td>A320-214</td>\n",
       "      <td>2</td>\n",
       "      <td>182</td>\n",
       "      <td>NaN</td>\n",
       "      <td>Turbo-fan</td>\n",
       "    </tr>\n",
       "    <tr>\n",
       "      <th>3</th>\n",
       "      <td>N105UW</td>\n",
       "      <td>1999.0</td>\n",
       "      <td>Fixed wing multi engine</td>\n",
       "      <td>AIRBUS INDUSTRIE</td>\n",
       "      <td>A320-214</td>\n",
       "      <td>2</td>\n",
       "      <td>182</td>\n",
       "      <td>NaN</td>\n",
       "      <td>Turbo-fan</td>\n",
       "    </tr>\n",
       "    <tr>\n",
       "      <th>4</th>\n",
       "      <td>N107US</td>\n",
       "      <td>1999.0</td>\n",
       "      <td>Fixed wing multi engine</td>\n",
       "      <td>AIRBUS INDUSTRIE</td>\n",
       "      <td>A320-214</td>\n",
       "      <td>2</td>\n",
       "      <td>182</td>\n",
       "      <td>NaN</td>\n",
       "      <td>Turbo-fan</td>\n",
       "    </tr>\n",
       "    <tr>\n",
       "      <th>...</th>\n",
       "      <td>...</td>\n",
       "      <td>...</td>\n",
       "      <td>...</td>\n",
       "      <td>...</td>\n",
       "      <td>...</td>\n",
       "      <td>...</td>\n",
       "      <td>...</td>\n",
       "      <td>...</td>\n",
       "      <td>...</td>\n",
       "    </tr>\n",
       "    <tr>\n",
       "      <th>2623</th>\n",
       "      <td>N983SW</td>\n",
       "      <td>2004.0</td>\n",
       "      <td>Fixed wing multi engine</td>\n",
       "      <td>BOMBARDIER INC</td>\n",
       "      <td>CL-600-2B19</td>\n",
       "      <td>2</td>\n",
       "      <td>55</td>\n",
       "      <td>NaN</td>\n",
       "      <td>Turbo-fan</td>\n",
       "    </tr>\n",
       "    <tr>\n",
       "      <th>2624</th>\n",
       "      <td>N984CA</td>\n",
       "      <td>1997.0</td>\n",
       "      <td>Fixed wing multi engine</td>\n",
       "      <td>CANADAIR</td>\n",
       "      <td>CL-600-2B19</td>\n",
       "      <td>2</td>\n",
       "      <td>55</td>\n",
       "      <td>NaN</td>\n",
       "      <td>Turbo-fan</td>\n",
       "    </tr>\n",
       "    <tr>\n",
       "      <th>2625</th>\n",
       "      <td>N986CA</td>\n",
       "      <td>NaN</td>\n",
       "      <td>Fixed wing multi engine</td>\n",
       "      <td>CANADAIR</td>\n",
       "      <td>CL-600-2B19</td>\n",
       "      <td>2</td>\n",
       "      <td>55</td>\n",
       "      <td>NaN</td>\n",
       "      <td>Turbo-fan</td>\n",
       "    </tr>\n",
       "    <tr>\n",
       "      <th>2626</th>\n",
       "      <td>N986SW</td>\n",
       "      <td>2004.0</td>\n",
       "      <td>Fixed wing multi engine</td>\n",
       "      <td>BOMBARDIER INC</td>\n",
       "      <td>CL-600-2B19</td>\n",
       "      <td>2</td>\n",
       "      <td>55</td>\n",
       "      <td>NaN</td>\n",
       "      <td>Turbo-fan</td>\n",
       "    </tr>\n",
       "    <tr>\n",
       "      <th>2627</th>\n",
       "      <td>N988CA</td>\n",
       "      <td>1997.0</td>\n",
       "      <td>Fixed wing multi engine</td>\n",
       "      <td>CANADAIR</td>\n",
       "      <td>CL-600-2B19</td>\n",
       "      <td>2</td>\n",
       "      <td>55</td>\n",
       "      <td>NaN</td>\n",
       "      <td>Turbo-fan</td>\n",
       "    </tr>\n",
       "  </tbody>\n",
       "</table>\n",
       "<p>2628 rows × 9 columns</p>\n",
       "</div>"
      ],
      "text/plain": [
       "     tailnum    year                     type      manufacturer        model  \\\n",
       "0     N102UW  1998.0  Fixed wing multi engine  AIRBUS INDUSTRIE     A320-214   \n",
       "1     N103US  1999.0  Fixed wing multi engine  AIRBUS INDUSTRIE     A320-214   \n",
       "2     N104UW  1999.0  Fixed wing multi engine  AIRBUS INDUSTRIE     A320-214   \n",
       "3     N105UW  1999.0  Fixed wing multi engine  AIRBUS INDUSTRIE     A320-214   \n",
       "4     N107US  1999.0  Fixed wing multi engine  AIRBUS INDUSTRIE     A320-214   \n",
       "...      ...     ...                      ...               ...          ...   \n",
       "2623  N983SW  2004.0  Fixed wing multi engine    BOMBARDIER INC  CL-600-2B19   \n",
       "2624  N984CA  1997.0  Fixed wing multi engine          CANADAIR  CL-600-2B19   \n",
       "2625  N986CA     NaN  Fixed wing multi engine          CANADAIR  CL-600-2B19   \n",
       "2626  N986SW  2004.0  Fixed wing multi engine    BOMBARDIER INC  CL-600-2B19   \n",
       "2627  N988CA  1997.0  Fixed wing multi engine          CANADAIR  CL-600-2B19   \n",
       "\n",
       "      engines  seats  speed     engine  \n",
       "0           2    182    NaN  Turbo-fan  \n",
       "1           2    182    NaN  Turbo-fan  \n",
       "2           2    182    NaN  Turbo-fan  \n",
       "3           2    182    NaN  Turbo-fan  \n",
       "4           2    182    NaN  Turbo-fan  \n",
       "...       ...    ...    ...        ...  \n",
       "2623        2     55    NaN  Turbo-fan  \n",
       "2624        2     55    NaN  Turbo-fan  \n",
       "2625        2     55    NaN  Turbo-fan  \n",
       "2626        2     55    NaN  Turbo-fan  \n",
       "2627        2     55    NaN  Turbo-fan  \n",
       "\n",
       "[2628 rows x 9 columns]"
      ]
     },
     "execution_count": 14,
     "metadata": {},
     "output_type": "execute_result"
    }
   ],
   "source": [
    "# Read StramingBody in into a pandas dataframe\n",
    "# 'Body': <botocore.response.StreamingBody object at 0x11fcf4eb0>\n",
    "pd.read_csv(obj['Body'])\n"
   ]
  },
  {
   "cell_type": "code",
   "execution_count": 17,
   "metadata": {},
   "outputs": [
    {
     "data": {
      "text/html": [
       "<div>\n",
       "<style scoped>\n",
       "    .dataframe tbody tr th:only-of-type {\n",
       "        vertical-align: middle;\n",
       "    }\n",
       "\n",
       "    .dataframe tbody tr th {\n",
       "        vertical-align: top;\n",
       "    }\n",
       "\n",
       "    .dataframe thead th {\n",
       "        text-align: right;\n",
       "    }\n",
       "</style>\n",
       "<table border=\"1\" class=\"dataframe\">\n",
       "  <thead>\n",
       "    <tr style=\"text-align: right;\">\n",
       "      <th></th>\n",
       "      <th>tailnum</th>\n",
       "      <th>year</th>\n",
       "      <th>type</th>\n",
       "      <th>manufacturer</th>\n",
       "      <th>model</th>\n",
       "      <th>engines</th>\n",
       "      <th>seats</th>\n",
       "      <th>speed</th>\n",
       "      <th>engine</th>\n",
       "    </tr>\n",
       "  </thead>\n",
       "  <tbody>\n",
       "    <tr>\n",
       "      <th>0</th>\n",
       "      <td>N102UW</td>\n",
       "      <td>1998.0</td>\n",
       "      <td>Fixed wing multi engine</td>\n",
       "      <td>AIRBUS INDUSTRIE</td>\n",
       "      <td>A320-214</td>\n",
       "      <td>2</td>\n",
       "      <td>182</td>\n",
       "      <td>NaN</td>\n",
       "      <td>Turbo-fan</td>\n",
       "    </tr>\n",
       "    <tr>\n",
       "      <th>1</th>\n",
       "      <td>N103US</td>\n",
       "      <td>1999.0</td>\n",
       "      <td>Fixed wing multi engine</td>\n",
       "      <td>AIRBUS INDUSTRIE</td>\n",
       "      <td>A320-214</td>\n",
       "      <td>2</td>\n",
       "      <td>182</td>\n",
       "      <td>NaN</td>\n",
       "      <td>Turbo-fan</td>\n",
       "    </tr>\n",
       "    <tr>\n",
       "      <th>2</th>\n",
       "      <td>N104UW</td>\n",
       "      <td>1999.0</td>\n",
       "      <td>Fixed wing multi engine</td>\n",
       "      <td>AIRBUS INDUSTRIE</td>\n",
       "      <td>A320-214</td>\n",
       "      <td>2</td>\n",
       "      <td>182</td>\n",
       "      <td>NaN</td>\n",
       "      <td>Turbo-fan</td>\n",
       "    </tr>\n",
       "    <tr>\n",
       "      <th>3</th>\n",
       "      <td>N105UW</td>\n",
       "      <td>1999.0</td>\n",
       "      <td>Fixed wing multi engine</td>\n",
       "      <td>AIRBUS INDUSTRIE</td>\n",
       "      <td>A320-214</td>\n",
       "      <td>2</td>\n",
       "      <td>182</td>\n",
       "      <td>NaN</td>\n",
       "      <td>Turbo-fan</td>\n",
       "    </tr>\n",
       "    <tr>\n",
       "      <th>4</th>\n",
       "      <td>N107US</td>\n",
       "      <td>1999.0</td>\n",
       "      <td>Fixed wing multi engine</td>\n",
       "      <td>AIRBUS INDUSTRIE</td>\n",
       "      <td>A320-214</td>\n",
       "      <td>2</td>\n",
       "      <td>182</td>\n",
       "      <td>NaN</td>\n",
       "      <td>Turbo-fan</td>\n",
       "    </tr>\n",
       "  </tbody>\n",
       "</table>\n",
       "</div>"
      ],
      "text/plain": [
       "  tailnum    year                     type      manufacturer     model  \\\n",
       "0  N102UW  1998.0  Fixed wing multi engine  AIRBUS INDUSTRIE  A320-214   \n",
       "1  N103US  1999.0  Fixed wing multi engine  AIRBUS INDUSTRIE  A320-214   \n",
       "2  N104UW  1999.0  Fixed wing multi engine  AIRBUS INDUSTRIE  A320-214   \n",
       "3  N105UW  1999.0  Fixed wing multi engine  AIRBUS INDUSTRIE  A320-214   \n",
       "4  N107US  1999.0  Fixed wing multi engine  AIRBUS INDUSTRIE  A320-214   \n",
       "\n",
       "   engines  seats  speed     engine  \n",
       "0        2    182    NaN  Turbo-fan  \n",
       "1        2    182    NaN  Turbo-fan  \n",
       "2        2    182    NaN  Turbo-fan  \n",
       "3        2    182    NaN  Turbo-fan  \n",
       "4        2    182    NaN  Turbo-fan  "
      ]
     },
     "execution_count": 17,
     "metadata": {},
     "output_type": "execute_result"
    }
   ],
   "source": [
    "# Pre-signed URL\n",
    "# Generate a presigned URL for the object\n",
    "# We generate a presigned URL that grants access to the file for 1 hour or 3600 seconds\n",
    "shared_url = s3.generate_presigned_url(ClientMethod='get_object',\n",
    "                                       ExpiresIn=3600, \n",
    "                                       Params={'Bucket': 'my-first-bucket-128341164379', 'Key': 'planes.csv'})\n",
    "\n",
    "# Read the URL into a pandas dataframe\n",
    "pd.read_csv(shared_url).head()"
   ]
  },
  {
   "cell_type": "code",
   "execution_count": null,
   "metadata": {},
   "outputs": [],
   "source": [
    "## EXAMPLE -> dont run just for example\n",
    "#For each file in response, load the object from S3.\n",
    "#Load the object's StreamingBody into pandas, and append to df_list.\n",
    "#Concatenate all the DataFrames with pandas.\n",
    "#Preview the resulting DataFrame.#\n",
    "\n",
    "df_list =  [ ] \n",
    "\n",
    "for file in response['Contents']:\n",
    "    # For each file in response load the object from S3\n",
    "    obj = s3.get_object(Bucket='gid-requests', Key=file['Key'])\n",
    "    # Load the object's StreamingBody with pandas\n",
    "    obj_df = pd.read_csv(obj['Body'])\n",
    "    # Append the resulting DataFrame to list\n",
    "    df_list.append(obj_df)\n",
    "\n",
    "# Concat all the DataFrames with pandas\n",
    "df = pd.concat(df_list)\n",
    "\n",
    "# Preview the resulting DataFrame\n",
    "df.head()\n"
   ]
  },
  {
   "cell_type": "code",
   "execution_count": null,
   "metadata": {},
   "outputs": [],
   "source": [
    "# Many python data science tools have the ability to generate simple HTML from data\n",
    "# The goal is not to have us making beautiful websiites, but to share our analysis with the world"
   ]
  },
  {
   "cell_type": "code",
   "execution_count": null,
   "metadata": {},
   "outputs": [],
   "source": [
    "# HTML table in Pandas\n",
    "# Convert DAtaFrame to HTML\n",
    "# render_links=True will convert URLs to clickable links\n",
    "# We can use the columns parameter to pass a list of only columns we want rendered\n",
    "# boreder=0 will remove the border from the table(1 for border)\n",
    "df.to_html('table.html', render_links=True, columns=['name', 'url'], border=0)"
   ]
  },
  {
   "cell_type": "code",
   "execution_count": null,
   "metadata": {},
   "outputs": [],
   "source": [
    "# Uploading HTML file to S3\n",
    "# we set the content type to text/html, the browser will know to render the file as HTML\n",
    "s3.upload_file(Filename='table.html',\n",
    "               Bucket='my-first-bucket-128341164379', \n",
    "               Key='table.html',\n",
    "               ExtraArgs={'ContentType': 'text/html', 'ACL': 'public-read'})"
   ]
  },
  {
   "cell_type": "code",
   "execution_count": null,
   "metadata": {},
   "outputs": [],
   "source": [
    "# Upload an image to S3\n",
    "s3.upload_file(Filename='image.png',\n",
    "               Bucket='my-first-bucket-128341164379', \n",
    "               Key='image.png', ExtraArgs={'ContentType': 'image/png', 'ACL': 'private'})"
   ]
  },
  {
   "cell_type": "code",
   "execution_count": 33,
   "metadata": {},
   "outputs": [
    {
     "data": {
      "text/html": [
       "<div>\n",
       "<style scoped>\n",
       "    .dataframe tbody tr th:only-of-type {\n",
       "        vertical-align: middle;\n",
       "    }\n",
       "\n",
       "    .dataframe tbody tr th {\n",
       "        vertical-align: top;\n",
       "    }\n",
       "\n",
       "    .dataframe thead th {\n",
       "        text-align: right;\n",
       "    }\n",
       "</style>\n",
       "<table border=\"1\" class=\"dataframe\">\n",
       "  <thead>\n",
       "    <tr style=\"text-align: right;\">\n",
       "      <th></th>\n",
       "      <th>Key</th>\n",
       "      <th>LastModified</th>\n",
       "      <th>ETag</th>\n",
       "      <th>Size</th>\n",
       "      <th>StorageClass</th>\n",
       "      <th>Owner</th>\n",
       "    </tr>\n",
       "  </thead>\n",
       "  <tbody>\n",
       "    <tr>\n",
       "      <th>0</th>\n",
       "      <td>planes.csv</td>\n",
       "      <td>2022-11-25 15:27:19+00:00</td>\n",
       "      <td>\"42949138987d62284b36668386cefb76\"</td>\n",
       "      <td>219326</td>\n",
       "      <td>STANDARD</td>\n",
       "      <td>{'ID': '433f8c3ff6d834c99c6a33e91277f031d89d8a...</td>\n",
       "    </tr>\n",
       "  </tbody>\n",
       "</table>\n",
       "</div>"
      ],
      "text/plain": [
       "          Key              LastModified                                ETag  \\\n",
       "0  planes.csv 2022-11-25 15:27:19+00:00  \"42949138987d62284b36668386cefb76\"   \n",
       "\n",
       "     Size StorageClass                                              Owner  \n",
       "0  219326     STANDARD  {'ID': '433f8c3ff6d834c99c6a33e91277f031d89d8a...  "
      ]
     },
     "execution_count": 33,
     "metadata": {},
     "output_type": "execute_result"
    }
   ],
   "source": [
    "# Upload IANA media types to S3\n",
    "# IANA media types are a list of all the different types of files that can be on the internet(JSON, HTML, PNG, PDF, etc.)\n",
    "# Generate an index page\n",
    "r = s3.list_objects(Bucket='my-first-bucket-128341164379', Prefix='p')\n",
    "\n",
    "#Convert the response to a DataFrame\n",
    "objects_df = pd.DataFrame(r['Contents'])\n",
    "objects_df.head()\n",
    "#r"
   ]
  },
  {
   "cell_type": "code",
   "execution_count": 34,
   "metadata": {},
   "outputs": [],
   "source": [
    "# We create a column 'Link' where we create the URL for every key in the object.\n",
    "base_url = \"https://{}.s3.amazonaws.com\".format('my-first-bucket-128341164379')\n",
    "objects_df['Link'] = base_url + '/' + objects_df['Key']"
   ]
  },
  {
   "cell_type": "code",
   "execution_count": 41,
   "metadata": {},
   "outputs": [],
   "source": [
    "# Then we convert the DataFrame to HTML\n",
    "objects_df.to_html('report.html', render_links=True, columns=['Key', 'Link'], border=1)\n"
   ]
  },
  {
   "cell_type": "code",
   "execution_count": 44,
   "metadata": {},
   "outputs": [],
   "source": [
    "# Upload the HTML file to S3\n",
    "# It will be public, so anyone can see it\n",
    "\n",
    "s3.upload_file(Filename='report.html',\n",
    "               Bucket='my-first-bucket-128341164379', \n",
    "               Key='report.html', \n",
    "               ExtraArgs={'ContentType': 'text/html', 'ACL': 'public-read'})\n",
    "# https://my-first-bucket-128341164379.s3.eu-central-1.amazonaws.com/report.html"
   ]
  },
  {
   "cell_type": "markdown",
   "metadata": {},
   "source": [
    "### The Steps\n",
    "#### Prepare the data\n",
    "1. Download files for month from the raw data bucket.\n",
    "2. Concatenate them into one csv.\n",
    "3. Create an aggregated DataFrame\n",
    "#### Create the report \n",
    "1. Write a DataFrame to CSV and HTML.\n",
    "2. Generate a Bokeh plot, save as HTML.\n",
    "#### Upload report to sharable website\n",
    "1. Create `reports` bucket.\n",
    "2. Upload all three files for the month to S3.\n",
    "3. Generate an index.html file. that lists all the files.\n",
    "4. Get the website URL!\n",
    "\n",
    "\n",
    "*Raw Data Bucket*\n",
    "1. Private files\n",
    "2. Daily csvs of request from App\n",
    "3. Raw data\n",
    "4. This bucket contains daily CSVs\n",
    "5. Every CSV has rows for every request that was made in the GetItDone app that day."
   ]
  },
  {
   "cell_type": "code",
   "execution_count": null,
   "metadata": {},
   "outputs": [],
   "source": [
    "# Create list to hold our DataFrames\n",
    "df = list = [ ]\n",
    "\n",
    "# Request the list of objects in the bucket with the prefix 'p'\n",
    "response = s3.list_objects(Bucket='my-first-bucket-128341164379', Prefix='p')\n",
    "\n",
    "# Get response contents\n",
    "request_files = response['Contents']"
   ]
  },
  {
   "cell_type": "code",
   "execution_count": null,
   "metadata": {},
   "outputs": [],
   "source": [
    "# Iterate over each object\n",
    "# we will iterate over each object, and load its StreamingBody using get_object.\n",
    "# We can't use the Object URL because it's private\n",
    "for file in request_files:\n",
    "    obj = s3.get_object(Bucket='my-first-bucket-128341164379', Key=file['Key'])\n",
    "    \n",
    "    # Read it as DataFrame\n",
    "    obj_df= pd.read_csv(obj['Body'])\n",
    "    \n",
    "    # Append to list\n",
    "    # So we will have a list of 31 dataframes, one for each dat in the df_list variable\n",
    "    df_list.append(obj_df)"
   ]
  },
  {
   "cell_type": "code",
   "execution_count": null,
   "metadata": {},
   "outputs": [],
   "source": [
    "# Concatenate all the DataFrames in the list\n",
    "df = pd.concat(df_list)\n",
    "\n",
    "# Preview the resulting DataFrame\n",
    "df.head()"
   ]
  },
  {
   "cell_type": "code",
   "execution_count": null,
   "metadata": {},
   "outputs": [],
   "source": [
    "#Create aggregated reports\n",
    "# to csv\n",
    "df.to_csv('jan_final_report.csv')\n",
    "# to html\n",
    "df.to_html('jan_final_report.html', render_links=True, columns=['name', 'url'], border=0)\n"
   ]
  },
  {
   "cell_type": "code",
   "execution_count": null,
   "metadata": {},
   "outputs": [],
   "source": [
    "#Upload Aggregated CSV to S3\n",
    "s3.upload_file(Filename='jan_final_report.csv', \n",
    "               Key = '2022/jan/jan_final_report.csv', \n",
    "               Bucket='my-first-bucket-128341164379', \n",
    "               ExtraArgs={'ContentType': 'text/csv', 'ACL': 'public-read'})"
   ]
  },
  {
   "cell_type": "code",
   "execution_count": null,
   "metadata": {},
   "outputs": [],
   "source": [
    "# Upload Aggregated HTML table to S3\n",
    "s3.upload_file(Filename='jan_final_report.html',\n",
    "               Key = '2022/jan/jan_final_report.html',\n",
    "               Bucket='my-first-bucket-128341164379',\n",
    "               ExtraArgs={'ContentType': 'text/html', 'ACL': 'public-read'})"
   ]
  },
  {
   "cell_type": "code",
   "execution_count": null,
   "metadata": {},
   "outputs": [],
   "source": [
    "# Create index.html\n",
    "# List the gid-reports bucket objects starting with 2019/\n",
    "r = s3.list_objects(Bucket='my-first-bucket-128341164379', Prefix='2022/')\n",
    "# Convert the response to a DataFrame\n",
    "obj_df = pd.DataFrame(r['Contents'])\n",
    "# Finally, we create a column 'Link' where we create the URL for every key in the object.\n",
    "base_url = \"https://{}.s3.amazonaws.com\".format('my-first-bucket-128341164379')\n",
    "obj_df['Link'] = base_url + '/' + obj_df['Key']"
   ]
  },
  {
   "cell_type": "code",
   "execution_count": null,
   "metadata": {},
   "outputs": [],
   "source": [
    "# Write DataFrame to HTML\n",
    "objects_df.to_html('report_listing.html',\n",
    "                   render_links=True, \n",
    "                   columns=['Key', 'Link', 'Size', 'LastModified'], \n",
    "                   border=1)"
   ]
  },
  {
   "cell_type": "code",
   "execution_count": null,
   "metadata": {},
   "outputs": [],
   "source": [
    "# Upload the file to my-first-bucket-128341164379 bucket root\n",
    "s3.upload_file(Filename='report_listing.html', \n",
    "               Key = 'report_listing.html',\n",
    "               Bucket='my-first-bucket-128341164379', \n",
    "               ExtraArgs={'ContentType': 'text/html', \n",
    "                          'ACL': 'public-read'})\n",
    "# Get the URL of the index!"
   ]
  },
  {
   "cell_type": "markdown",
   "metadata": {},
   "source": [
    "# Reporting and Notifying!\n",
    "\n",
    "- Alerting humans and machines to take action is a key component of data engineering.That's where Amazon SNS comes in!\n",
    "\n",
    "- *AWS SNS:* Stand for Simple Notification Service.\n",
    "\n",
    "- SNS is a fully managed service that allows you to send messages to a variety of endpoints, including email, SMS, and HTTP(S). You can also use SNS to send messages to AWS Lambda functions.\n",
    "\n",
    "- In SNS every topic has an ARN (Amazon Resource Name) that is used to identify the topic."
   ]
  },
  {
   "cell_type": "code",
   "execution_count": 5,
   "metadata": {},
   "outputs": [],
   "source": [
    "# Initialize boto3 client for SNS\n",
    "sns = boto3.client('sns' , \n",
    "                   region_name='eu-central-1',\n",
    "                   aws_access_key_id=f'{ACCESS_KEY_ID}',\n",
    "                   aws_secret_access_key=f'{AWS_SECRET_KEY}')"
   ]
  },
  {
   "cell_type": "code",
   "execution_count": 6,
   "metadata": {},
   "outputs": [],
   "source": [
    "# Create the city_alerts topic\n",
    "response = sns.create_topic(Name='city_alerts')\n",
    "c_alerts_arn = response['TopicArn']"
   ]
  },
  {
   "cell_type": "code",
   "execution_count": 7,
   "metadata": {},
   "outputs": [
    {
     "name": "stdout",
     "output_type": "stream",
     "text": [
      "True\n"
     ]
    }
   ],
   "source": [
    "# Re-create the city_alerts topic using a oneliner\n",
    "c_alerts_arn_1 = sns.create_topic(Name='city_alerts')['TopicArn']\n",
    "\n",
    "# Compare the two to make sure they match\n",
    "print(c_alerts_arn == c_alerts_arn_1)"
   ]
  },
  {
   "cell_type": "code",
   "execution_count": 45,
   "metadata": {},
   "outputs": [
    {
     "name": "stdout",
     "output_type": "stream",
     "text": [
      "[{'TopicArn': 'arn:aws:sns:eu-central-1:121678499034:streets_critical'}, {'TopicArn': 'arn:aws:sns:eu-central-1:121678499034:streets_general'}, {'TopicArn': 'arn:aws:sns:eu-central-1:121678499034:streets_notifications'}, {'TopicArn': 'arn:aws:sns:eu-central-1:121678499034:trash_critical'}, {'TopicArn': 'arn:aws:sns:eu-central-1:121678499034:trash_general'}, {'TopicArn': 'arn:aws:sns:eu-central-1:121678499034:trash_notifications'}, {'TopicArn': 'arn:aws:sns:eu-central-1:121678499034:water_critical'}, {'TopicArn': 'arn:aws:sns:eu-central-1:121678499034:water_general'}]\n"
     ]
    }
   ],
   "source": [
    "# Creating multiple topics\n",
    "# Create list of departments\n",
    "departments = ['trash', 'streets', 'water']\n",
    "\n",
    "for dept in departments:\n",
    "  \t# For every department, create a general topic\n",
    "    sns.create_topic(Name=\"{}_general\".format(dept))\n",
    "    \n",
    "    # For every department, create a critical topic\n",
    "    sns.create_topic(Name=\"{}_critical\".format(dept))\n",
    "\n",
    "# Print all the topics in SNS\n",
    "response = sns.list_topics()\n",
    "print(response['Topics'])"
   ]
  },
  {
   "cell_type": "code",
   "execution_count": 46,
   "metadata": {},
   "outputs": [
    {
     "name": "stdout",
     "output_type": "stream",
     "text": [
      "[{'TopicArn': 'arn:aws:sns:eu-central-1:121678499034:streets_critical'}, {'TopicArn': 'arn:aws:sns:eu-central-1:121678499034:trash_critical'}, {'TopicArn': 'arn:aws:sns:eu-central-1:121678499034:water_critical'}]\n"
     ]
    }
   ],
   "source": [
    "# Get the current list of topics\n",
    "topics = sns.list_topics()['Topics']\n",
    "\n",
    "for topic in topics:\n",
    "  # For each topic, if it is not marked critical, delete it\n",
    "  if \"critical\" not in topic['TopicArn']:\n",
    "    sns.delete_topic(TopicArn=topic['TopicArn'])\n",
    "    \n",
    "# Print the list of remaining critical topics\n",
    "print(sns.list_topics()['Topics'])"
   ]
  },
  {
   "cell_type": "markdown",
   "metadata": {},
   "source": [
    "### SNS Subscription"
   ]
  },
  {
   "cell_type": "code",
   "execution_count": 47,
   "metadata": {},
   "outputs": [],
   "source": [
    "# Creating an SNS subscription\n",
    "response = sns.subscribe(TopicArn = 'arn:aws:sns:eu-central-1:121678499034:streets_critical', \n",
    "                         Protocol = 'SMS', \n",
    "                         Endpoint = '+1766035489')"
   ]
  },
  {
   "cell_type": "code",
   "execution_count": 48,
   "metadata": {},
   "outputs": [],
   "source": [
    "# Create an email subscription\n",
    "response = sns.subscribe(TopicArn = 'arn:aws:sns:eu-central-1:121678499034:streets_critical', \n",
    "                         Protocol = 'email', \n",
    "                         Endpoint = 'ssamilozkan@gmail.com')\n",
    "# The subscription is pending confirmation\n",
    "# Confirm the subscription\n",
    "# Once you confirm the subscription, you will receive a welcome email from Amazon SNS"
   ]
  },
  {
   "cell_type": "code",
   "execution_count": 49,
   "metadata": {},
   "outputs": [
    {
     "data": {
      "text/plain": [
       "{'SubscriptionArn': 'pending confirmation',\n",
       " 'ResponseMetadata': {'RequestId': 'e35ea051-a6de-5b0b-9628-fbae844de23a',\n",
       "  'HTTPStatusCode': 200,\n",
       "  'HTTPHeaders': {'x-amzn-requestid': 'e35ea051-a6de-5b0b-9628-fbae844de23a',\n",
       "   'content-type': 'text/xml',\n",
       "   'content-length': '298',\n",
       "   'date': 'Mon, 28 Nov 2022 20:55:46 GMT'},\n",
       "  'RetryAttempts': 0}}"
      ]
     },
     "execution_count": 49,
     "metadata": {},
     "output_type": "execute_result"
    }
   ],
   "source": [
    "response"
   ]
  },
  {
   "cell_type": "code",
   "execution_count": 50,
   "metadata": {},
   "outputs": [
    {
     "data": {
      "text/plain": [
       "{'Subscriptions': [{'SubscriptionArn': 'arn:aws:sns:eu-central-1:121678499034:streets_critical:e05277a5-6777-4567-9ce7-f3210ec3be6a',\n",
       "   'Owner': '121678499034',\n",
       "   'Protocol': 'email',\n",
       "   'Endpoint': 'ssamilozkan@gmail.com',\n",
       "   'TopicArn': 'arn:aws:sns:eu-central-1:121678499034:streets_critical'},\n",
       "  {'SubscriptionArn': 'arn:aws:sns:eu-central-1:121678499034:streets_critical:3928f8fd-b657-4d03-b6e0-dccb15835096',\n",
       "   'Owner': '121678499034',\n",
       "   'Protocol': 'sms',\n",
       "   'Endpoint': '+1766035489',\n",
       "   'TopicArn': 'arn:aws:sns:eu-central-1:121678499034:streets_critical'}],\n",
       " 'ResponseMetadata': {'RequestId': 'd7ac7ba8-0e97-5c6a-9415-20572c02855b',\n",
       "  'HTTPStatusCode': 200,\n",
       "  'HTTPHeaders': {'x-amzn-requestid': 'd7ac7ba8-0e97-5c6a-9415-20572c02855b',\n",
       "   'content-type': 'text/xml',\n",
       "   'content-length': '1071',\n",
       "   'date': 'Mon, 28 Nov 2022 20:55:48 GMT'},\n",
       "  'RetryAttempts': 0}}"
      ]
     },
     "execution_count": 50,
     "metadata": {},
     "output_type": "execute_result"
    }
   ],
   "source": [
    "# List the subscriptions by topic\n",
    "sns.list_subscriptions_by_topic(TopicArn='arn:aws:sns:eu-central-1:121678499034:streets_critical')"
   ]
  },
  {
   "cell_type": "code",
   "execution_count": 51,
   "metadata": {},
   "outputs": [
    {
     "data": {
      "text/plain": [
       "{'Subscriptions': [],\n",
       " 'NextToken': 'AAHLeQCFA+vg0KnRFnKKqa0oKf/0VzNp1n1TydNqVuhgfw==',\n",
       " 'ResponseMetadata': {'RequestId': '02377749-6d64-5c1d-af45-2cb64ff2352c',\n",
       "  'HTTPStatusCode': 200,\n",
       "  'HTTPHeaders': {'x-amzn-requestid': '02377749-6d64-5c1d-af45-2cb64ff2352c',\n",
       "   'content-type': 'text/xml',\n",
       "   'content-length': '367',\n",
       "   'date': 'Mon, 28 Nov 2022 20:55:49 GMT'},\n",
       "  'RetryAttempts': 0}}"
      ]
     },
     "execution_count": 51,
     "metadata": {},
     "output_type": "execute_result"
    }
   ],
   "source": [
    "# Listing subscriptions\n",
    "# This will give us back the same response, but for all topics, instead of just one that we specify.\n",
    "sns.list_subscriptions()"
   ]
  },
  {
   "cell_type": "code",
   "execution_count": null,
   "metadata": {},
   "outputs": [],
   "source": [
    "# Deleting a subscription\n",
    "sns.unsubscribe(SubscriptionArn='arn:aws:sns:eu-central-1:121678499034:streets_critical')"
   ]
  },
  {
   "cell_type": "code",
   "execution_count": 53,
   "metadata": {},
   "outputs": [
    {
     "data": {
      "text/plain": [
       "[{'SubscriptionArn': 'arn:aws:sns:eu-central-1:121678499034:streets_critical:e05277a5-6777-4567-9ce7-f3210ec3be6a',\n",
       "  'Owner': '121678499034',\n",
       "  'Protocol': 'email',\n",
       "  'Endpoint': 'ssamilozkan@gmail.com',\n",
       "  'TopicArn': 'arn:aws:sns:eu-central-1:121678499034:streets_critical'},\n",
       " {'SubscriptionArn': 'arn:aws:sns:eu-central-1:121678499034:streets_critical:3928f8fd-b657-4d03-b6e0-dccb15835096',\n",
       "  'Owner': '121678499034',\n",
       "  'Protocol': 'sms',\n",
       "  'Endpoint': '+1766035489',\n",
       "  'TopicArn': 'arn:aws:sns:eu-central-1:121678499034:streets_critical'}]"
      ]
     },
     "execution_count": 53,
     "metadata": {},
     "output_type": "execute_result"
    }
   ],
   "source": [
    "# What if we choose to stop sending notifications via SMS?\n",
    "\n",
    "# Get the list of subscriptions\n",
    "response = sns.list_subscriptions_by_topic(TopicArn='arn:aws:sns:eu-central-1:121678499034:streets_critical')\n",
    "subs = response['Subscriptions']\n",
    "subs"
   ]
  },
  {
   "cell_type": "code",
   "execution_count": 54,
   "metadata": {},
   "outputs": [
    {
     "data": {
      "text/html": [
       "<div>\n",
       "<style scoped>\n",
       "    .dataframe tbody tr th:only-of-type {\n",
       "        vertical-align: middle;\n",
       "    }\n",
       "\n",
       "    .dataframe tbody tr th {\n",
       "        vertical-align: top;\n",
       "    }\n",
       "\n",
       "    .dataframe thead th {\n",
       "        text-align: right;\n",
       "    }\n",
       "</style>\n",
       "<table border=\"1\" class=\"dataframe\">\n",
       "  <thead>\n",
       "    <tr style=\"text-align: right;\">\n",
       "      <th></th>\n",
       "      <th>SubscriptionArn</th>\n",
       "      <th>Owner</th>\n",
       "      <th>Protocol</th>\n",
       "      <th>Endpoint</th>\n",
       "      <th>TopicArn</th>\n",
       "    </tr>\n",
       "  </thead>\n",
       "  <tbody>\n",
       "    <tr>\n",
       "      <th>0</th>\n",
       "      <td>arn:aws:sns:eu-central-1:121678499034:streets_...</td>\n",
       "      <td>121678499034</td>\n",
       "      <td>email</td>\n",
       "      <td>ssamilozkan@gmail.com</td>\n",
       "      <td>arn:aws:sns:eu-central-1:121678499034:streets_...</td>\n",
       "    </tr>\n",
       "    <tr>\n",
       "      <th>1</th>\n",
       "      <td>arn:aws:sns:eu-central-1:121678499034:streets_...</td>\n",
       "      <td>121678499034</td>\n",
       "      <td>sms</td>\n",
       "      <td>+1766035489</td>\n",
       "      <td>arn:aws:sns:eu-central-1:121678499034:streets_...</td>\n",
       "    </tr>\n",
       "  </tbody>\n",
       "</table>\n",
       "</div>"
      ],
      "text/plain": [
       "                                     SubscriptionArn         Owner Protocol  \\\n",
       "0  arn:aws:sns:eu-central-1:121678499034:streets_...  121678499034    email   \n",
       "1  arn:aws:sns:eu-central-1:121678499034:streets_...  121678499034      sms   \n",
       "\n",
       "                Endpoint                                           TopicArn  \n",
       "0  ssamilozkan@gmail.com  arn:aws:sns:eu-central-1:121678499034:streets_...  \n",
       "1            +1766035489  arn:aws:sns:eu-central-1:121678499034:streets_...  "
      ]
     },
     "execution_count": 54,
     "metadata": {},
     "output_type": "execute_result"
    }
   ],
   "source": [
    "subs = pd.DataFrame(subs)\n",
    "subs"
   ]
  },
  {
   "cell_type": "code",
   "execution_count": null,
   "metadata": {},
   "outputs": [],
   "source": [
    "# Unsubscribe from all SMS subscriptions\n",
    "for sub in subs:\n",
    "  if sub['Protocol'] == 'SMS':\n",
    "    sns.unsubscribe(sub['SubscriptionArn'])"
   ]
  },
  {
   "cell_type": "code",
   "execution_count": 56,
   "metadata": {},
   "outputs": [
    {
     "data": {
      "text/plain": [
       "[{'SubscriptionArn': 'arn:aws:sns:eu-central-1:121678499034:streets_critical:e05277a5-6777-4567-9ce7-f3210ec3be6a',\n",
       "  'Owner': '121678499034',\n",
       "  'Protocol': 'email',\n",
       "  'Endpoint': 'ssamilozkan@gmail.com',\n",
       "  'TopicArn': 'arn:aws:sns:eu-central-1:121678499034:streets_critical'},\n",
       " {'SubscriptionArn': 'arn:aws:sns:eu-central-1:121678499034:streets_critical:3928f8fd-b657-4d03-b6e0-dccb15835096',\n",
       "  'Owner': '121678499034',\n",
       "  'Protocol': 'sms',\n",
       "  'Endpoint': '+1766035489',\n",
       "  'TopicArn': 'arn:aws:sns:eu-central-1:121678499034:streets_critical'}]"
      ]
     },
     "execution_count": 56,
     "metadata": {},
     "output_type": "execute_result"
    }
   ],
   "source": [
    "esponse = sns.list_subscriptions_by_topic(TopicArn='arn:aws:sns:eu-central-1:121678499034:streets_critical')\n",
    "subs = response['Subscriptions']\n",
    "subs\n",
    "# You can check the aws dashboard to see the changes"
   ]
  },
  {
   "cell_type": "markdown",
   "metadata": {},
   "source": [
    "### Sending a message"
   ]
  },
  {
   "cell_type": "code",
   "execution_count": 33,
   "metadata": {},
   "outputs": [],
   "source": [
    "# Publishing to a Topic\n",
    "# This will broadcast the message to every subscriber of the topic\n",
    "response = sns.publish(TopicArn='arn:aws:sns:eu-central-1:121678499034:streets_critical', \n",
    "                       Message='The trash is not being picked up on time!', # Message\n",
    "                       Subject = 'Trash Alert for Email') # Subject"
   ]
  },
  {
   "cell_type": "code",
   "execution_count": 40,
   "metadata": {},
   "outputs": [],
   "source": [
    "# Sending a custom message\n",
    "num_of_reports = 10\n",
    "response = sns.publish(TopicArn='arn:aws:sns:eu-central-1:121678499034:streets_critical', \n",
    "                          Message = 'There are {} reports outstanding'.format(num_of_reports),\n",
    "                          Subject = 'Trash Alert for Email')"
   ]
  },
  {
   "cell_type": "code",
   "execution_count": 38,
   "metadata": {},
   "outputs": [],
   "source": [
    "# Sending a singel SMS\n",
    "# For this method we don't have to worry about having a topic or subscribers to it.\n",
    "# To send a single SMS, we also use the boto3 SNS client's publish method.\n",
    "response = sns.publish(PhoneNumber='+4917660354789',\n",
    "                       Message='The trash is not being picked up on time!')\n"
   ]
  },
  {
   "cell_type": "markdown",
   "metadata": {},
   "source": [
    "## Building a notification System\n",
    "\n"
   ]
  },
  {
   "cell_type": "code",
   "execution_count": 57,
   "metadata": {},
   "outputs": [],
   "source": [
    "# Initialize boto3 client for SNS\n",
    "sns = boto3.client('sns' , \n",
    "                   region_name='eu-central-1',\n",
    "                   aws_access_key_id=f'{ACCESS_KEY_ID}',\n",
    "                   aws_secret_access_key=f'{AWS_SECRET_KEY}')"
   ]
  },
  {
   "cell_type": "code",
   "execution_count": 58,
   "metadata": {},
   "outputs": [],
   "source": [
    "# Create topic and store their ARNs\n",
    "trash_arn = sns.create_topic(Name='trash_notifications')['TopicArn']\n",
    "streets_arn = sns.create_topic(Name='streets_notifications')['TopicArn']"
   ]
  },
  {
   "cell_type": "code",
   "execution_count": 81,
   "metadata": {},
   "outputs": [],
   "source": [
    "# upload data for example\n",
    "s3.upload_file(Filename= '/Users/ssamilozkan/Desktop/aws_boto/dataset/contacts.csv' ,\n",
    "               Bucket= 'my-first-bucket-128341164379' , \n",
    "               Key= 'contacts.csv', \n",
    "               ExtraArgs={'ContentType': 'text/csv', 'ACL': 'public-read'}) "
   ]
  },
  {
   "cell_type": "code",
   "execution_count": 90,
   "metadata": {},
   "outputs": [],
   "source": [
    "# upload data for example\n",
    "s3.upload_file(Filename= '/Users/ssamilozkan/Desktop/aws_boto/dataset/final_report.csv' ,\n",
    "               Bucket= 'my-first-bucket-128341164379' , \n",
    "               Key= 'final_report.csv', \n",
    "               ExtraArgs={'ContentType': 'text/csv', 'ACL': 'public-read'}) "
   ]
  },
  {
   "cell_type": "code",
   "execution_count": 74,
   "metadata": {},
   "outputs": [
    {
     "data": {
      "text/html": [
       "<div>\n",
       "<style scoped>\n",
       "    .dataframe tbody tr th:only-of-type {\n",
       "        vertical-align: middle;\n",
       "    }\n",
       "\n",
       "    .dataframe tbody tr th {\n",
       "        vertical-align: top;\n",
       "    }\n",
       "\n",
       "    .dataframe thead th {\n",
       "        text-align: right;\n",
       "    }\n",
       "</style>\n",
       "<table border=\"1\" class=\"dataframe\">\n",
       "  <thead>\n",
       "    <tr style=\"text-align: right;\">\n",
       "      <th></th>\n",
       "      <th>name</th>\n",
       "      <th>email</th>\n",
       "      <th>Phone</th>\n",
       "      <th>Department</th>\n",
       "    </tr>\n",
       "  </thead>\n",
       "  <tbody>\n",
       "    <tr>\n",
       "      <th>0</th>\n",
       "      <td>John</td>\n",
       "      <td>js@fake.com</td>\n",
       "      <td>123-456-7890</td>\n",
       "      <td>trash</td>\n",
       "    </tr>\n",
       "    <tr>\n",
       "      <th>1</th>\n",
       "      <td>Jane</td>\n",
       "      <td>fan@fake.com</td>\n",
       "      <td>123-456-7890</td>\n",
       "      <td>trash</td>\n",
       "    </tr>\n",
       "    <tr>\n",
       "      <th>2</th>\n",
       "      <td>Joe</td>\n",
       "      <td>who@fake.com</td>\n",
       "      <td>123-456-7890</td>\n",
       "      <td>streets</td>\n",
       "    </tr>\n",
       "    <tr>\n",
       "      <th>3</th>\n",
       "      <td>Jim</td>\n",
       "      <td>who2@fake.com</td>\n",
       "      <td>123-456-7890</td>\n",
       "      <td>streets</td>\n",
       "    </tr>\n",
       "    <tr>\n",
       "      <th>4</th>\n",
       "      <td>Janex</td>\n",
       "      <td>who3@fake.com</td>\n",
       "      <td>123-456-7890</td>\n",
       "      <td>streets</td>\n",
       "    </tr>\n",
       "  </tbody>\n",
       "</table>\n",
       "</div>"
      ],
      "text/plain": [
       "    name          email         Phone Department\n",
       "0   John    js@fake.com  123-456-7890      trash\n",
       "1   Jane   fan@fake.com  123-456-7890      trash\n",
       "2    Joe   who@fake.com  123-456-7890    streets\n",
       "3    Jim  who2@fake.com  123-456-7890    streets\n",
       "4  Janex  who3@fake.com  123-456-7890    streets"
      ]
     },
     "execution_count": 74,
     "metadata": {},
     "output_type": "execute_result"
    }
   ],
   "source": [
    "contacts = pd.read_csv('https://my-first-bucket-128341164379.s3.eu-central-1.amazonaws.com/contacts.csv')\n",
    "contacts"
   ]
  },
  {
   "cell_type": "code",
   "execution_count": 77,
   "metadata": {},
   "outputs": [],
   "source": [
    "# Subscriber users to the topics\n",
    "def subscribe_user(user_row):\n",
    "    if user_row['Department'] == 'trash':\n",
    "        sns.subscribe(TopicArn=trash_arn,Protocol='email',Endpoint=(user_row['email']))\n",
    "        sns.subscribe(TopicArn=trash_arn,Protocol='SMS',Endpoint=str(user_row['Phone']))\n",
    "    else:\n",
    "        sns.subscribe(TopicArn=streets_arn,Protocol='email',Endpoint=(user_row['email']))\n",
    "        sns.subscribe(TopicArn=streets_arn,Protocol='SMS',Endpoint=str(user_row['Phone']))"
   ]
  },
  {
   "cell_type": "code",
   "execution_count": 78,
   "metadata": {},
   "outputs": [
    {
     "data": {
      "text/plain": [
       "0    None\n",
       "1    None\n",
       "2    None\n",
       "3    None\n",
       "4    None\n",
       "dtype: object"
      ]
     },
     "execution_count": 78,
     "metadata": {},
     "output_type": "execute_result"
    }
   ],
   "source": [
    "#Apply the subscribe_user metehod to every row \n",
    "# The users are subscribed to the topics based on their department\n",
    "# you can check the aws dashboard to see the changes\n",
    "# For the email subscription, you will receive a confirmation email\n",
    "contacts.apply(subscribe_user,axis=1)"
   ]
  },
  {
   "cell_type": "code",
   "execution_count": 95,
   "metadata": {},
   "outputs": [
    {
     "data": {
      "text/html": [
       "<div>\n",
       "<style scoped>\n",
       "    .dataframe tbody tr th:only-of-type {\n",
       "        vertical-align: middle;\n",
       "    }\n",
       "\n",
       "    .dataframe tbody tr th {\n",
       "        vertical-align: top;\n",
       "    }\n",
       "\n",
       "    .dataframe thead th {\n",
       "        text-align: right;\n",
       "    }\n",
       "</style>\n",
       "<table border=\"1\" class=\"dataframe\">\n",
       "  <thead>\n",
       "    <tr style=\"text-align: right;\">\n",
       "      <th></th>\n",
       "      <th>service_name</th>\n",
       "      <th>request_count</th>\n",
       "    </tr>\n",
       "  </thead>\n",
       "  <tbody>\n",
       "    <tr>\n",
       "      <th>0</th>\n",
       "      <td>Illegal Dumping</td>\n",
       "      <td>2580</td>\n",
       "    </tr>\n",
       "    <tr>\n",
       "      <th>1</th>\n",
       "      <td>Potential Missed Collection</td>\n",
       "      <td>150</td>\n",
       "    </tr>\n",
       "    <tr>\n",
       "      <th>2</th>\n",
       "      <td>Pothole</td>\n",
       "      <td>1170</td>\n",
       "    </tr>\n",
       "    <tr>\n",
       "      <th>3</th>\n",
       "      <td>Trafficc Sign - Maintenance</td>\n",
       "      <td>210</td>\n",
       "    </tr>\n",
       "    <tr>\n",
       "      <th>4</th>\n",
       "      <td>Traffic Sign - Repair</td>\n",
       "      <td>100</td>\n",
       "    </tr>\n",
       "    <tr>\n",
       "      <th>5</th>\n",
       "      <td>Traffic Sign - Replace</td>\n",
       "      <td>190</td>\n",
       "    </tr>\n",
       "  </tbody>\n",
       "</table>\n",
       "</div>"
      ],
      "text/plain": [
       "                  service_name  request_count\n",
       "0              Illegal Dumping           2580\n",
       "1  Potential Missed Collection            150\n",
       "2                      Pothole           1170\n",
       "3  Trafficc Sign - Maintenance            210\n",
       "4        Traffic Sign - Repair            100\n",
       "5       Traffic Sign - Replace            190"
      ]
     },
     "execution_count": 95,
     "metadata": {},
     "output_type": "execute_result"
    }
   ],
   "source": [
    "# Get the aggregated numnbers\n",
    "# Now we need to get last month's aggregated report.\n",
    "# Because it's public we can simply use pd to load report into a dataframe\n",
    "df = pd.read_csv('https://my-first-bucket-128341164379.s3.eu-central-1.amazonaws.com/final_report.csv') \n",
    "df"
   ]
  },
  {
   "cell_type": "code",
   "execution_count": 96,
   "metadata": {},
   "outputs": [],
   "source": [
    "# We set the index on service_name for easier access.\n",
    "df.set_index('service_name',inplace=True)"
   ]
  },
  {
   "cell_type": "code",
   "execution_count": 97,
   "metadata": {},
   "outputs": [
    {
     "data": {
      "text/html": [
       "<div>\n",
       "<style scoped>\n",
       "    .dataframe tbody tr th:only-of-type {\n",
       "        vertical-align: middle;\n",
       "    }\n",
       "\n",
       "    .dataframe tbody tr th {\n",
       "        vertical-align: top;\n",
       "    }\n",
       "\n",
       "    .dataframe thead th {\n",
       "        text-align: right;\n",
       "    }\n",
       "</style>\n",
       "<table border=\"1\" class=\"dataframe\">\n",
       "  <thead>\n",
       "    <tr style=\"text-align: right;\">\n",
       "      <th></th>\n",
       "      <th>request_count</th>\n",
       "    </tr>\n",
       "    <tr>\n",
       "      <th>service_name</th>\n",
       "      <th></th>\n",
       "    </tr>\n",
       "  </thead>\n",
       "  <tbody>\n",
       "    <tr>\n",
       "      <th>Illegal Dumping</th>\n",
       "      <td>2580</td>\n",
       "    </tr>\n",
       "    <tr>\n",
       "      <th>Potential Missed Collection</th>\n",
       "      <td>150</td>\n",
       "    </tr>\n",
       "    <tr>\n",
       "      <th>Pothole</th>\n",
       "      <td>1170</td>\n",
       "    </tr>\n",
       "    <tr>\n",
       "      <th>Trafficc Sign - Maintenance</th>\n",
       "      <td>210</td>\n",
       "    </tr>\n",
       "    <tr>\n",
       "      <th>Traffic Sign - Repair</th>\n",
       "      <td>100</td>\n",
       "    </tr>\n",
       "    <tr>\n",
       "      <th>Traffic Sign - Replace</th>\n",
       "      <td>190</td>\n",
       "    </tr>\n",
       "  </tbody>\n",
       "</table>\n",
       "</div>"
      ],
      "text/plain": [
       "                             request_count\n",
       "service_name                              \n",
       "Illegal Dumping                       2580\n",
       "Potential Missed Collection            150\n",
       "Pothole                               1170\n",
       "Trafficc Sign - Maintenance            210\n",
       "Traffic Sign - Repair                  100\n",
       "Traffic Sign - Replace                 190"
      ]
     },
     "execution_count": 97,
     "metadata": {},
     "output_type": "execute_result"
    }
   ],
   "source": [
    "df"
   ]
  },
  {
   "cell_type": "code",
   "execution_count": 98,
   "metadata": {},
   "outputs": [],
   "source": [
    "# Get the aggreated numbers\n",
    "trash_violations_count = df.at['Illegal Dumping','request_count']\n",
    "streets_violations_count = df.at['Pothole','request_count']"
   ]
  },
  {
   "cell_type": "code",
   "execution_count": 99,
   "metadata": {},
   "outputs": [],
   "source": [
    "# Send Alerts\n",
    "if trash_violations_count > 100:\n",
    "    sns.publish(TopicArn=trash_arn,\n",
    "                Message='There are {} trash violations'.format(trash_violations_count),\n",
    "                Subject='Trash Alert')\n",
    "    \n",
    "if streets_violations_count > 30:\n",
    "    sns.publish(TopicArn=streets_arn, \n",
    "                Message='There are {} streets violations'.format(streets_violations_count),\n",
    "                Subject='Streets Alert')"
   ]
  },
  {
   "cell_type": "code",
   "execution_count": null,
   "metadata": {},
   "outputs": [],
   "source": []
  }
 ],
 "metadata": {
  "kernelspec": {
   "display_name": "Python 3.10.6 ('pvenv': venv)",
   "language": "python",
   "name": "python3"
  },
  "language_info": {
   "codemirror_mode": {
    "name": "ipython",
    "version": 3
   },
   "file_extension": ".py",
   "mimetype": "text/x-python",
   "name": "python",
   "nbconvert_exporter": "python",
   "pygments_lexer": "ipython3",
   "version": "3.10.6"
  },
  "orig_nbformat": 4,
  "vscode": {
   "interpreter": {
    "hash": "70f52df3629032df417c275848baf52e11c1f5ebc407e80c94db62ac8b07ff2d"
   }
  }
 },
 "nbformat": 4,
 "nbformat_minor": 2
}
