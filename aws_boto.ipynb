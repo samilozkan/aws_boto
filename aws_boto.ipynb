{
 "cells": [
  {
   "cell_type": "code",
   "execution_count": 2,
   "metadata": {},
   "outputs": [],
   "source": [
    "import boto3\n",
    "import pandas as pd"
   ]
  },
  {
   "cell_type": "code",
   "execution_count": 3,
   "metadata": {},
   "outputs": [
    {
     "data": {
      "text/plain": [
       "'1.26.15'"
      ]
     },
     "execution_count": 3,
     "metadata": {},
     "output_type": "execute_result"
    }
   ],
   "source": [
    "# check if boto3 is installed\n",
    "boto3.__version__"
   ]
  },
  {
   "cell_type": "code",
   "execution_count": 4,
   "metadata": {},
   "outputs": [],
   "source": [
    "from dotenv import load_dotenv\n",
    "import os\n",
    "load_dotenv()\n",
    "#environment variables\n",
    "ACCESS_KEY_ID = os.getenv(\"ACCESS_KEY_ID\")\n",
    "AWS_SECRET_KEY = os.getenv(\"AWS_SECRET_KEY\")\n",
    "\n"
   ]
  },
  {
   "cell_type": "code",
   "execution_count": 5,
   "metadata": {},
   "outputs": [],
   "source": [
    "s3= boto3.client('s3',\n",
    "                 region_name='eu-central-1',\n",
    "                 aws_access_key_id=f'{ACCESS_KEY_ID}',\n",
    "                 aws_secret_access_key=f'{AWS_SECRET_KEY}')"
   ]
  },
  {
   "cell_type": "code",
   "execution_count": 6,
   "metadata": {},
   "outputs": [
    {
     "name": "stdout",
     "output_type": "stream",
     "text": [
      "{'Name': 'my-first-bucket-128341164379', 'CreationDate': datetime.datetime(2022, 11, 24, 14, 2, 29, tzinfo=tzutc())}\n",
      "{'Name': 'samil-aws-config', 'CreationDate': datetime.datetime(2022, 11, 24, 11, 11, 58, tzinfo=tzutc())}\n"
     ]
    }
   ],
   "source": [
    "respose = s3.list_buckets()\n",
    "for bucket in respose['Buckets']:\n",
    "    print(bucket)"
   ]
  },
  {
   "cell_type": "code",
   "execution_count": null,
   "metadata": {},
   "outputs": [],
   "source": [
    "bucket = s3.create_bucket(Bucket='my-first-bucket-128341164379',\n",
    "                          CreateBucketConfiguration={'LocationConstraint': 'eu-central-1'})"
   ]
  },
  {
   "cell_type": "markdown",
   "metadata": {},
   "source": [
    "- Get the buckets from S3.\n",
    "- Iterate over the bucket key from response to access the list of buckets.\n",
    "- Print the name of each bucket."
   ]
  },
  {
   "cell_type": "code",
   "execution_count": 7,
   "metadata": {},
   "outputs": [
    {
     "name": "stdout",
     "output_type": "stream",
     "text": [
      "my-first-bucket-128341164379 2022-11-24 14:02:29+00:00\n",
      "samil-aws-config 2022-11-24 11:11:58+00:00\n"
     ]
    }
   ],
   "source": [
    "response = s3.list_buckets()\n",
    "for bucket in response['Buckets']:\n",
    "    print(bucket['Name'], bucket['CreationDate'])"
   ]
  },
  {
   "cell_type": "code",
   "execution_count": 70,
   "metadata": {},
   "outputs": [],
   "source": [
    "response = s3.delete_bucket(Bucket='my-first-bucket-128341164379')"
   ]
  },
  {
   "cell_type": "code",
   "execution_count": 9,
   "metadata": {},
   "outputs": [],
   "source": [
    "# Delete all the buckets with 'gim', create replacements.\n",
    "for bucket in response['Buckets']:\n",
    "  if 'gim' in bucket['Name']:\n",
    "      s3.delete_bucket(Bucket=bucket['Name'])"
   ]
  },
  {
   "cell_type": "code",
   "execution_count": 13,
   "metadata": {},
   "outputs": [],
   "source": [
    "# Upload a new file.\n",
    "# Filename is the local file path.\n",
    "# Bucket is the name of the bucket.\n",
    "# Key is what we want to call the object in S3.\n",
    "s3.upload_file(Filename= '/Users/ssamilozkan/Desktop/aws_boto/dataset/airports.csv' ,\n",
    "               Bucket= 'my-first-bucket-128341164379' , \n",
    "               Key= 'aiport.csv' )"
   ]
  },
  {
   "cell_type": "code",
   "execution_count": 14,
   "metadata": {},
   "outputs": [
    {
     "name": "stdout",
     "output_type": "stream",
     "text": [
      "aiport.csv 84548 2022-11-25 15:26:52+00:00\n",
      "planes.csv 219326 2022-11-25 14:21:22+00:00\n"
     ]
    }
   ],
   "source": [
    "# List all the objects in the bucket.\n",
    "response = s3.list_objects(Bucket= 'my-first-bucket-128341164379', MaxKeys=2)\n",
    "for obj in response['Contents']:\n",
    "    print(obj['Key'], obj['Size'], obj['LastModified'])"
   ]
  },
  {
   "cell_type": "code",
   "execution_count": 15,
   "metadata": {},
   "outputs": [],
   "source": [
    "# Download the file.\n",
    "# You can see the new file in the current directory.\n",
    "s3.download_file(Filename= '/Users/ssamilozkan/Desktop/aws_boto/dataset/airports2.csv' ,\n",
    "                 Bucket = 'my-first-bucket-128341164379' ,\n",
    "                 Key = 'aiport.csv' )"
   ]
  },
  {
   "cell_type": "code",
   "execution_count": null,
   "metadata": {},
   "outputs": [],
   "source": [
    "# Deleteing objects\n",
    "s3.delete_object(Bucket= 'my-first-bucket-128341164379' , Key= 'aiport.csv' )"
   ]
  },
  {
   "cell_type": "code",
   "execution_count": 17,
   "metadata": {},
   "outputs": [
    {
     "data": {
      "text/plain": [
       "{'ResponseMetadata': {'RequestId': 'XKMSR3GCZ2R03XZA',\n",
       "  'HostId': 'owokeTx7VACJAehcJjyjvBJ4rjkK3pmu6OMHvKc3q9tM9lTe4Kfyrdv7/U7tTlQso1AiQciT+3I=',\n",
       "  'HTTPStatusCode': 200,\n",
       "  'HTTPHeaders': {'x-amz-id-2': 'owokeTx7VACJAehcJjyjvBJ4rjkK3pmu6OMHvKc3q9tM9lTe4Kfyrdv7/U7tTlQso1AiQciT+3I=',\n",
       "   'x-amz-request-id': 'XKMSR3GCZ2R03XZA',\n",
       "   'date': 'Fri, 25 Nov 2022 13:53:42 GMT',\n",
       "   'last-modified': 'Fri, 25 Nov 2022 13:53:36 GMT',\n",
       "   'etag': '\"a31ea87f5412c40ed4907c38478e5c80\"',\n",
       "   'accept-ranges': 'bytes',\n",
       "   'content-type': 'binary/octet-stream',\n",
       "   'server': 'AmazonS3',\n",
       "   'content-length': '84548'},\n",
       "  'RetryAttempts': 0},\n",
       " 'AcceptRanges': 'bytes',\n",
       " 'LastModified': datetime.datetime(2022, 11, 25, 13, 53, 36, tzinfo=tzutc()),\n",
       " 'ContentLength': 84548,\n",
       " 'ETag': '\"a31ea87f5412c40ed4907c38478e5c80\"',\n",
       " 'ContentType': 'binary/octet-stream',\n",
       " 'Metadata': {}}"
      ]
     },
     "execution_count": 17,
     "metadata": {},
     "output_type": "execute_result"
    }
   ],
   "source": [
    "# object metadata\n",
    "s3.head_object(Bucket= 'my-first-bucket-128341164379' , Key= 'aiport.csv' )"
   ]
  },
  {
   "cell_type": "code",
   "execution_count": null,
   "metadata": {},
   "outputs": [],
   "source": [
    "# List only objects that start with '2018/final_'\n",
    "response = s3.list_objects(Bucket='gid-staging', \n",
    "                           Prefix='2018/final_')\n",
    "\n",
    "# Iterate over the objects\n",
    "if 'Contents' in response:\n",
    "  for obj in response['Contents']:\n",
    "      # Delete the object\n",
    "      s3.delete_object(Bucket='gid-staging', Key=obj['Key'])\n",
    "\n",
    "# Print the remaining objects in the bucket\n",
    "response = s3.list_objects(Bucket='gid-staging')\n",
    "\n",
    "for obj in response['Contents']:\n",
    "  \tprint(obj['Key'])"
   ]
  },
  {
   "cell_type": "code",
   "execution_count": 16,
   "metadata": {},
   "outputs": [
    {
     "data": {
      "text/plain": [
       "{'ResponseMetadata': {'RequestId': '91F81RTDBAKKE1CH',\n",
       "  'HostId': 'VV5C77tdB9cs3XRJrLmeyR3mIuHmHXUvzYVk3snHwjwFYR8lvx00opAVnqamTbXbydVVGjLB8ek=',\n",
       "  'HTTPStatusCode': 200,\n",
       "  'HTTPHeaders': {'x-amz-id-2': 'VV5C77tdB9cs3XRJrLmeyR3mIuHmHXUvzYVk3snHwjwFYR8lvx00opAVnqamTbXbydVVGjLB8ek=',\n",
       "   'x-amz-request-id': '91F81RTDBAKKE1CH',\n",
       "   'date': 'Fri, 25 Nov 2022 15:27:15 GMT',\n",
       "   'server': 'AmazonS3',\n",
       "   'content-length': '0'},\n",
       "  'RetryAttempts': 0}}"
      ]
     },
     "execution_count": 16,
     "metadata": {},
     "output_type": "execute_result"
    }
   ],
   "source": [
    "#ACL (Access Control List)\n",
    "# set the ACL to public-read\n",
    "# Now anyone can read the object\n",
    "s3.put_object_acl(Bucket='my-first-bucket-128341164379', Key = 'aiport.csv', ACL='public-read')"
   ]
  },
  {
   "cell_type": "code",
   "execution_count": 17,
   "metadata": {},
   "outputs": [],
   "source": [
    "# Setting the ACLs on upload\n",
    "# upload file with public-read ACL\n",
    "s3.upload_file(Filename= '/Users/ssamilozkan/Desktop/aws_boto/dataset/planes.csv' ,\n",
    "               Bucket= 'my-first-bucket-128341164379' ,\n",
    "               Key= 'planes.csv' ,\n",
    "               ExtraArgs={'ACL': 'public-read'})"
   ]
  },
  {
   "cell_type": "markdown",
   "metadata": {},
   "source": [
    "-  **Accessing the public objects**\n",
    "- URL for Key = `https://{bucket}.s3.{region}.amazonaws.com/{key}` "
   ]
  },
  {
   "cell_type": "code",
   "execution_count": 18,
   "metadata": {},
   "outputs": [],
   "source": [
    "# Generating public object URL\n",
    "url = \"https://{}.s3.{}.amazonaws.com/{}\".format('my-first-bucket-128341164379', 'eu-central-1','planes.csv')"
   ]
  },
  {
   "cell_type": "code",
   "execution_count": 19,
   "metadata": {},
   "outputs": [
    {
     "data": {
      "text/html": [
       "<div>\n",
       "<style scoped>\n",
       "    .dataframe tbody tr th:only-of-type {\n",
       "        vertical-align: middle;\n",
       "    }\n",
       "\n",
       "    .dataframe tbody tr th {\n",
       "        vertical-align: top;\n",
       "    }\n",
       "\n",
       "    .dataframe thead th {\n",
       "        text-align: right;\n",
       "    }\n",
       "</style>\n",
       "<table border=\"1\" class=\"dataframe\">\n",
       "  <thead>\n",
       "    <tr style=\"text-align: right;\">\n",
       "      <th></th>\n",
       "      <th>tailnum</th>\n",
       "      <th>year</th>\n",
       "      <th>type</th>\n",
       "      <th>manufacturer</th>\n",
       "      <th>model</th>\n",
       "      <th>engines</th>\n",
       "      <th>seats</th>\n",
       "      <th>speed</th>\n",
       "      <th>engine</th>\n",
       "    </tr>\n",
       "  </thead>\n",
       "  <tbody>\n",
       "    <tr>\n",
       "      <th>0</th>\n",
       "      <td>N102UW</td>\n",
       "      <td>1998.0</td>\n",
       "      <td>Fixed wing multi engine</td>\n",
       "      <td>AIRBUS INDUSTRIE</td>\n",
       "      <td>A320-214</td>\n",
       "      <td>2</td>\n",
       "      <td>182</td>\n",
       "      <td>NaN</td>\n",
       "      <td>Turbo-fan</td>\n",
       "    </tr>\n",
       "    <tr>\n",
       "      <th>1</th>\n",
       "      <td>N103US</td>\n",
       "      <td>1999.0</td>\n",
       "      <td>Fixed wing multi engine</td>\n",
       "      <td>AIRBUS INDUSTRIE</td>\n",
       "      <td>A320-214</td>\n",
       "      <td>2</td>\n",
       "      <td>182</td>\n",
       "      <td>NaN</td>\n",
       "      <td>Turbo-fan</td>\n",
       "    </tr>\n",
       "    <tr>\n",
       "      <th>2</th>\n",
       "      <td>N104UW</td>\n",
       "      <td>1999.0</td>\n",
       "      <td>Fixed wing multi engine</td>\n",
       "      <td>AIRBUS INDUSTRIE</td>\n",
       "      <td>A320-214</td>\n",
       "      <td>2</td>\n",
       "      <td>182</td>\n",
       "      <td>NaN</td>\n",
       "      <td>Turbo-fan</td>\n",
       "    </tr>\n",
       "    <tr>\n",
       "      <th>3</th>\n",
       "      <td>N105UW</td>\n",
       "      <td>1999.0</td>\n",
       "      <td>Fixed wing multi engine</td>\n",
       "      <td>AIRBUS INDUSTRIE</td>\n",
       "      <td>A320-214</td>\n",
       "      <td>2</td>\n",
       "      <td>182</td>\n",
       "      <td>NaN</td>\n",
       "      <td>Turbo-fan</td>\n",
       "    </tr>\n",
       "    <tr>\n",
       "      <th>4</th>\n",
       "      <td>N107US</td>\n",
       "      <td>1999.0</td>\n",
       "      <td>Fixed wing multi engine</td>\n",
       "      <td>AIRBUS INDUSTRIE</td>\n",
       "      <td>A320-214</td>\n",
       "      <td>2</td>\n",
       "      <td>182</td>\n",
       "      <td>NaN</td>\n",
       "      <td>Turbo-fan</td>\n",
       "    </tr>\n",
       "  </tbody>\n",
       "</table>\n",
       "</div>"
      ],
      "text/plain": [
       "  tailnum    year                     type      manufacturer     model  \\\n",
       "0  N102UW  1998.0  Fixed wing multi engine  AIRBUS INDUSTRIE  A320-214   \n",
       "1  N103US  1999.0  Fixed wing multi engine  AIRBUS INDUSTRIE  A320-214   \n",
       "2  N104UW  1999.0  Fixed wing multi engine  AIRBUS INDUSTRIE  A320-214   \n",
       "3  N105UW  1999.0  Fixed wing multi engine  AIRBUS INDUSTRIE  A320-214   \n",
       "4  N107US  1999.0  Fixed wing multi engine  AIRBUS INDUSTRIE  A320-214   \n",
       "\n",
       "   engines  seats  speed     engine  \n",
       "0        2    182    NaN  Turbo-fan  \n",
       "1        2    182    NaN  Turbo-fan  \n",
       "2        2    182    NaN  Turbo-fan  \n",
       "3        2    182    NaN  Turbo-fan  \n",
       "4        2    182    NaN  Turbo-fan  "
      ]
     },
     "execution_count": 19,
     "metadata": {},
     "output_type": "execute_result"
    }
   ],
   "source": [
    "# read the URL into a pandas dataframe\n",
    "df = pd.read_csv(url)\n",
    "df.head()"
   ]
  },
  {
   "cell_type": "code",
   "execution_count": 11,
   "metadata": {},
   "outputs": [
    {
     "data": {
      "text/plain": [
       "{'ResponseMetadata': {'RequestId': '1ZXGV8693THA3PES',\n",
       "  'HostId': 'NtaJXDawSroYmLJsTeOBEPBclVKLPtf/PXM+HhnOxphGKNIAxKg5s0ngw8SRnI5apAbL5XMCHJA=',\n",
       "  'HTTPStatusCode': 200,\n",
       "  'HTTPHeaders': {'x-amz-id-2': 'NtaJXDawSroYmLJsTeOBEPBclVKLPtf/PXM+HhnOxphGKNIAxKg5s0ngw8SRnI5apAbL5XMCHJA=',\n",
       "   'x-amz-request-id': '1ZXGV8693THA3PES',\n",
       "   'date': 'Sun, 27 Nov 2022 15:39:59 GMT',\n",
       "   'server': 'AmazonS3',\n",
       "   'content-length': '0'},\n",
       "  'RetryAttempts': 0}}"
      ]
     },
     "execution_count": 11,
     "metadata": {},
     "output_type": "execute_result"
    }
   ],
   "source": [
    "# Set the ACL to private\n",
    "s3.put_object_acl(Bucket = 'my-first-bucket-128341164379', Key = 'planes.csv', ACL='private')"
   ]
  },
  {
   "cell_type": "code",
   "execution_count": 9,
   "metadata": {},
   "outputs": [
    {
     "name": "stdout",
     "output_type": "stream",
     "text": [
      "https://my-first-bucket-128341164379.s3.amazonaws.com/planes.csv\n"
     ]
    }
   ],
   "source": [
    "# List only objects that start with 'p'\n",
    "response = s3.list_objects(\n",
    "    Bucket='my-first-bucket-128341164379', Prefix='p')\n",
    "\n",
    "# Iterate over the objects\n",
    "for obj in response['Contents']:\n",
    "  \n",
    "    # Give each object ACL of public-read\n",
    "    s3.put_object_acl(Bucket='my-first-bucket-128341164379', \n",
    "                      Key=obj['Key'], \n",
    "                      ACL='public-read')\n",
    "    \n",
    "    # Print the Public Object URL for each object\n",
    "    print(\"https://{}.s3.amazonaws.com/{}\".format('my-first-bucket-128341164379', obj['Key']))"
   ]
  },
  {
   "cell_type": "code",
   "execution_count": 13,
   "metadata": {},
   "outputs": [
    {
     "name": "stdout",
     "output_type": "stream",
     "text": [
      "{'ResponseMetadata': {'RequestId': '85E743HSCS72P3NY', 'HostId': 'BvaBfgHEPgNpbFnNAx5eE9s+et0ww4JxLoNJLSepapl4rgj48ZWDdL7/o5m5EnIF80KFETFVzWc=', 'HTTPStatusCode': 200, 'HTTPHeaders': {'x-amz-id-2': 'BvaBfgHEPgNpbFnNAx5eE9s+et0ww4JxLoNJLSepapl4rgj48ZWDdL7/o5m5EnIF80KFETFVzWc=', 'x-amz-request-id': '85E743HSCS72P3NY', 'date': 'Sun, 27 Nov 2022 15:41:09 GMT', 'last-modified': 'Fri, 25 Nov 2022 15:27:19 GMT', 'etag': '\"42949138987d62284b36668386cefb76\"', 'accept-ranges': 'bytes', 'content-type': 'binary/octet-stream', 'server': 'AmazonS3', 'content-length': '219326'}, 'RetryAttempts': 0}, 'AcceptRanges': 'bytes', 'LastModified': datetime.datetime(2022, 11, 25, 15, 27, 19, tzinfo=tzutc()), 'ContentLength': 219326, 'ETag': '\"42949138987d62284b36668386cefb76\"', 'ContentType': 'binary/octet-stream', 'Metadata': {}, 'Body': <botocore.response.StreamingBody object at 0x11fcf4eb0>}\n"
     ]
    }
   ],
   "source": [
    "# Accessing private objects\n",
    "obj = s3.get_object(Bucket='my-first-bucket-128341164379', Key='planes.csv')\n",
    "# print(obj['Body'].read())\n",
    "print(obj)"
   ]
  },
  {
   "cell_type": "code",
   "execution_count": 14,
   "metadata": {},
   "outputs": [
    {
     "data": {
      "text/html": [
       "<div>\n",
       "<style scoped>\n",
       "    .dataframe tbody tr th:only-of-type {\n",
       "        vertical-align: middle;\n",
       "    }\n",
       "\n",
       "    .dataframe tbody tr th {\n",
       "        vertical-align: top;\n",
       "    }\n",
       "\n",
       "    .dataframe thead th {\n",
       "        text-align: right;\n",
       "    }\n",
       "</style>\n",
       "<table border=\"1\" class=\"dataframe\">\n",
       "  <thead>\n",
       "    <tr style=\"text-align: right;\">\n",
       "      <th></th>\n",
       "      <th>tailnum</th>\n",
       "      <th>year</th>\n",
       "      <th>type</th>\n",
       "      <th>manufacturer</th>\n",
       "      <th>model</th>\n",
       "      <th>engines</th>\n",
       "      <th>seats</th>\n",
       "      <th>speed</th>\n",
       "      <th>engine</th>\n",
       "    </tr>\n",
       "  </thead>\n",
       "  <tbody>\n",
       "    <tr>\n",
       "      <th>0</th>\n",
       "      <td>N102UW</td>\n",
       "      <td>1998.0</td>\n",
       "      <td>Fixed wing multi engine</td>\n",
       "      <td>AIRBUS INDUSTRIE</td>\n",
       "      <td>A320-214</td>\n",
       "      <td>2</td>\n",
       "      <td>182</td>\n",
       "      <td>NaN</td>\n",
       "      <td>Turbo-fan</td>\n",
       "    </tr>\n",
       "    <tr>\n",
       "      <th>1</th>\n",
       "      <td>N103US</td>\n",
       "      <td>1999.0</td>\n",
       "      <td>Fixed wing multi engine</td>\n",
       "      <td>AIRBUS INDUSTRIE</td>\n",
       "      <td>A320-214</td>\n",
       "      <td>2</td>\n",
       "      <td>182</td>\n",
       "      <td>NaN</td>\n",
       "      <td>Turbo-fan</td>\n",
       "    </tr>\n",
       "    <tr>\n",
       "      <th>2</th>\n",
       "      <td>N104UW</td>\n",
       "      <td>1999.0</td>\n",
       "      <td>Fixed wing multi engine</td>\n",
       "      <td>AIRBUS INDUSTRIE</td>\n",
       "      <td>A320-214</td>\n",
       "      <td>2</td>\n",
       "      <td>182</td>\n",
       "      <td>NaN</td>\n",
       "      <td>Turbo-fan</td>\n",
       "    </tr>\n",
       "    <tr>\n",
       "      <th>3</th>\n",
       "      <td>N105UW</td>\n",
       "      <td>1999.0</td>\n",
       "      <td>Fixed wing multi engine</td>\n",
       "      <td>AIRBUS INDUSTRIE</td>\n",
       "      <td>A320-214</td>\n",
       "      <td>2</td>\n",
       "      <td>182</td>\n",
       "      <td>NaN</td>\n",
       "      <td>Turbo-fan</td>\n",
       "    </tr>\n",
       "    <tr>\n",
       "      <th>4</th>\n",
       "      <td>N107US</td>\n",
       "      <td>1999.0</td>\n",
       "      <td>Fixed wing multi engine</td>\n",
       "      <td>AIRBUS INDUSTRIE</td>\n",
       "      <td>A320-214</td>\n",
       "      <td>2</td>\n",
       "      <td>182</td>\n",
       "      <td>NaN</td>\n",
       "      <td>Turbo-fan</td>\n",
       "    </tr>\n",
       "    <tr>\n",
       "      <th>...</th>\n",
       "      <td>...</td>\n",
       "      <td>...</td>\n",
       "      <td>...</td>\n",
       "      <td>...</td>\n",
       "      <td>...</td>\n",
       "      <td>...</td>\n",
       "      <td>...</td>\n",
       "      <td>...</td>\n",
       "      <td>...</td>\n",
       "    </tr>\n",
       "    <tr>\n",
       "      <th>2623</th>\n",
       "      <td>N983SW</td>\n",
       "      <td>2004.0</td>\n",
       "      <td>Fixed wing multi engine</td>\n",
       "      <td>BOMBARDIER INC</td>\n",
       "      <td>CL-600-2B19</td>\n",
       "      <td>2</td>\n",
       "      <td>55</td>\n",
       "      <td>NaN</td>\n",
       "      <td>Turbo-fan</td>\n",
       "    </tr>\n",
       "    <tr>\n",
       "      <th>2624</th>\n",
       "      <td>N984CA</td>\n",
       "      <td>1997.0</td>\n",
       "      <td>Fixed wing multi engine</td>\n",
       "      <td>CANADAIR</td>\n",
       "      <td>CL-600-2B19</td>\n",
       "      <td>2</td>\n",
       "      <td>55</td>\n",
       "      <td>NaN</td>\n",
       "      <td>Turbo-fan</td>\n",
       "    </tr>\n",
       "    <tr>\n",
       "      <th>2625</th>\n",
       "      <td>N986CA</td>\n",
       "      <td>NaN</td>\n",
       "      <td>Fixed wing multi engine</td>\n",
       "      <td>CANADAIR</td>\n",
       "      <td>CL-600-2B19</td>\n",
       "      <td>2</td>\n",
       "      <td>55</td>\n",
       "      <td>NaN</td>\n",
       "      <td>Turbo-fan</td>\n",
       "    </tr>\n",
       "    <tr>\n",
       "      <th>2626</th>\n",
       "      <td>N986SW</td>\n",
       "      <td>2004.0</td>\n",
       "      <td>Fixed wing multi engine</td>\n",
       "      <td>BOMBARDIER INC</td>\n",
       "      <td>CL-600-2B19</td>\n",
       "      <td>2</td>\n",
       "      <td>55</td>\n",
       "      <td>NaN</td>\n",
       "      <td>Turbo-fan</td>\n",
       "    </tr>\n",
       "    <tr>\n",
       "      <th>2627</th>\n",
       "      <td>N988CA</td>\n",
       "      <td>1997.0</td>\n",
       "      <td>Fixed wing multi engine</td>\n",
       "      <td>CANADAIR</td>\n",
       "      <td>CL-600-2B19</td>\n",
       "      <td>2</td>\n",
       "      <td>55</td>\n",
       "      <td>NaN</td>\n",
       "      <td>Turbo-fan</td>\n",
       "    </tr>\n",
       "  </tbody>\n",
       "</table>\n",
       "<p>2628 rows × 9 columns</p>\n",
       "</div>"
      ],
      "text/plain": [
       "     tailnum    year                     type      manufacturer        model  \\\n",
       "0     N102UW  1998.0  Fixed wing multi engine  AIRBUS INDUSTRIE     A320-214   \n",
       "1     N103US  1999.0  Fixed wing multi engine  AIRBUS INDUSTRIE     A320-214   \n",
       "2     N104UW  1999.0  Fixed wing multi engine  AIRBUS INDUSTRIE     A320-214   \n",
       "3     N105UW  1999.0  Fixed wing multi engine  AIRBUS INDUSTRIE     A320-214   \n",
       "4     N107US  1999.0  Fixed wing multi engine  AIRBUS INDUSTRIE     A320-214   \n",
       "...      ...     ...                      ...               ...          ...   \n",
       "2623  N983SW  2004.0  Fixed wing multi engine    BOMBARDIER INC  CL-600-2B19   \n",
       "2624  N984CA  1997.0  Fixed wing multi engine          CANADAIR  CL-600-2B19   \n",
       "2625  N986CA     NaN  Fixed wing multi engine          CANADAIR  CL-600-2B19   \n",
       "2626  N986SW  2004.0  Fixed wing multi engine    BOMBARDIER INC  CL-600-2B19   \n",
       "2627  N988CA  1997.0  Fixed wing multi engine          CANADAIR  CL-600-2B19   \n",
       "\n",
       "      engines  seats  speed     engine  \n",
       "0           2    182    NaN  Turbo-fan  \n",
       "1           2    182    NaN  Turbo-fan  \n",
       "2           2    182    NaN  Turbo-fan  \n",
       "3           2    182    NaN  Turbo-fan  \n",
       "4           2    182    NaN  Turbo-fan  \n",
       "...       ...    ...    ...        ...  \n",
       "2623        2     55    NaN  Turbo-fan  \n",
       "2624        2     55    NaN  Turbo-fan  \n",
       "2625        2     55    NaN  Turbo-fan  \n",
       "2626        2     55    NaN  Turbo-fan  \n",
       "2627        2     55    NaN  Turbo-fan  \n",
       "\n",
       "[2628 rows x 9 columns]"
      ]
     },
     "execution_count": 14,
     "metadata": {},
     "output_type": "execute_result"
    }
   ],
   "source": [
    "# Read StramingBody in into a pandas dataframe\n",
    "# 'Body': <botocore.response.StreamingBody object at 0x11fcf4eb0>\n",
    "pd.read_csv(obj['Body'])\n"
   ]
  },
  {
   "cell_type": "code",
   "execution_count": 17,
   "metadata": {},
   "outputs": [
    {
     "data": {
      "text/html": [
       "<div>\n",
       "<style scoped>\n",
       "    .dataframe tbody tr th:only-of-type {\n",
       "        vertical-align: middle;\n",
       "    }\n",
       "\n",
       "    .dataframe tbody tr th {\n",
       "        vertical-align: top;\n",
       "    }\n",
       "\n",
       "    .dataframe thead th {\n",
       "        text-align: right;\n",
       "    }\n",
       "</style>\n",
       "<table border=\"1\" class=\"dataframe\">\n",
       "  <thead>\n",
       "    <tr style=\"text-align: right;\">\n",
       "      <th></th>\n",
       "      <th>tailnum</th>\n",
       "      <th>year</th>\n",
       "      <th>type</th>\n",
       "      <th>manufacturer</th>\n",
       "      <th>model</th>\n",
       "      <th>engines</th>\n",
       "      <th>seats</th>\n",
       "      <th>speed</th>\n",
       "      <th>engine</th>\n",
       "    </tr>\n",
       "  </thead>\n",
       "  <tbody>\n",
       "    <tr>\n",
       "      <th>0</th>\n",
       "      <td>N102UW</td>\n",
       "      <td>1998.0</td>\n",
       "      <td>Fixed wing multi engine</td>\n",
       "      <td>AIRBUS INDUSTRIE</td>\n",
       "      <td>A320-214</td>\n",
       "      <td>2</td>\n",
       "      <td>182</td>\n",
       "      <td>NaN</td>\n",
       "      <td>Turbo-fan</td>\n",
       "    </tr>\n",
       "    <tr>\n",
       "      <th>1</th>\n",
       "      <td>N103US</td>\n",
       "      <td>1999.0</td>\n",
       "      <td>Fixed wing multi engine</td>\n",
       "      <td>AIRBUS INDUSTRIE</td>\n",
       "      <td>A320-214</td>\n",
       "      <td>2</td>\n",
       "      <td>182</td>\n",
       "      <td>NaN</td>\n",
       "      <td>Turbo-fan</td>\n",
       "    </tr>\n",
       "    <tr>\n",
       "      <th>2</th>\n",
       "      <td>N104UW</td>\n",
       "      <td>1999.0</td>\n",
       "      <td>Fixed wing multi engine</td>\n",
       "      <td>AIRBUS INDUSTRIE</td>\n",
       "      <td>A320-214</td>\n",
       "      <td>2</td>\n",
       "      <td>182</td>\n",
       "      <td>NaN</td>\n",
       "      <td>Turbo-fan</td>\n",
       "    </tr>\n",
       "    <tr>\n",
       "      <th>3</th>\n",
       "      <td>N105UW</td>\n",
       "      <td>1999.0</td>\n",
       "      <td>Fixed wing multi engine</td>\n",
       "      <td>AIRBUS INDUSTRIE</td>\n",
       "      <td>A320-214</td>\n",
       "      <td>2</td>\n",
       "      <td>182</td>\n",
       "      <td>NaN</td>\n",
       "      <td>Turbo-fan</td>\n",
       "    </tr>\n",
       "    <tr>\n",
       "      <th>4</th>\n",
       "      <td>N107US</td>\n",
       "      <td>1999.0</td>\n",
       "      <td>Fixed wing multi engine</td>\n",
       "      <td>AIRBUS INDUSTRIE</td>\n",
       "      <td>A320-214</td>\n",
       "      <td>2</td>\n",
       "      <td>182</td>\n",
       "      <td>NaN</td>\n",
       "      <td>Turbo-fan</td>\n",
       "    </tr>\n",
       "  </tbody>\n",
       "</table>\n",
       "</div>"
      ],
      "text/plain": [
       "  tailnum    year                     type      manufacturer     model  \\\n",
       "0  N102UW  1998.0  Fixed wing multi engine  AIRBUS INDUSTRIE  A320-214   \n",
       "1  N103US  1999.0  Fixed wing multi engine  AIRBUS INDUSTRIE  A320-214   \n",
       "2  N104UW  1999.0  Fixed wing multi engine  AIRBUS INDUSTRIE  A320-214   \n",
       "3  N105UW  1999.0  Fixed wing multi engine  AIRBUS INDUSTRIE  A320-214   \n",
       "4  N107US  1999.0  Fixed wing multi engine  AIRBUS INDUSTRIE  A320-214   \n",
       "\n",
       "   engines  seats  speed     engine  \n",
       "0        2    182    NaN  Turbo-fan  \n",
       "1        2    182    NaN  Turbo-fan  \n",
       "2        2    182    NaN  Turbo-fan  \n",
       "3        2    182    NaN  Turbo-fan  \n",
       "4        2    182    NaN  Turbo-fan  "
      ]
     },
     "execution_count": 17,
     "metadata": {},
     "output_type": "execute_result"
    }
   ],
   "source": [
    "# Pre-signed URL\n",
    "# Generate a presigned URL for the object\n",
    "# We generate a presigned URL that grants access to the file for 1 hour or 3600 seconds\n",
    "shared_url = s3.generate_presigned_url(ClientMethod='get_object',\n",
    "                                       ExpiresIn=3600, \n",
    "                                       Params={'Bucket': 'my-first-bucket-128341164379', 'Key': 'planes.csv'})\n",
    "\n",
    "# Read the URL into a pandas dataframe\n",
    "pd.read_csv(shared_url).head()"
   ]
  },
  {
   "cell_type": "code",
   "execution_count": null,
   "metadata": {},
   "outputs": [],
   "source": [
    "## EXAMPLE -> dont run just for example\n",
    "#For each file in response, load the object from S3.\n",
    "#Load the object's StreamingBody into pandas, and append to df_list.\n",
    "#Concatenate all the DataFrames with pandas.\n",
    "#Preview the resulting DataFrame.#\n",
    "\n",
    "df_list =  [ ] \n",
    "\n",
    "for file in response['Contents']:\n",
    "    # For each file in response load the object from S3\n",
    "    obj = s3.get_object(Bucket='gid-requests', Key=file['Key'])\n",
    "    # Load the object's StreamingBody with pandas\n",
    "    obj_df = pd.read_csv(obj['Body'])\n",
    "    # Append the resulting DataFrame to list\n",
    "    df_list.append(obj_df)\n",
    "\n",
    "# Concat all the DataFrames with pandas\n",
    "df = pd.concat(df_list)\n",
    "\n",
    "# Preview the resulting DataFrame\n",
    "df.head()\n"
   ]
  },
  {
   "cell_type": "code",
   "execution_count": null,
   "metadata": {},
   "outputs": [],
   "source": [
    "# Many python data science tools have the ability to generate simple HTML from data\n",
    "# The goal is not to have us making beautiful websiites, but to share our analysis with the world"
   ]
  },
  {
   "cell_type": "code",
   "execution_count": null,
   "metadata": {},
   "outputs": [],
   "source": [
    "# HTML table in Pandas\n",
    "# Convert DAtaFrame to HTML\n",
    "# render_links=True will convert URLs to clickable links\n",
    "# We can use the columns parameter to pass a list of only columns we want rendered\n",
    "# boreder=0 will remove the border from the table(1 for border)\n",
    "df.to_html('table.html', render_links=True, columns=['name', 'url'], border=0)"
   ]
  },
  {
   "cell_type": "code",
   "execution_count": null,
   "metadata": {},
   "outputs": [],
   "source": [
    "# Uploading HTML file to S3\n",
    "# we set the content type to text/html, the browser will know to render the file as HTML\n",
    "s3.upload_file(Filename='table.html',\n",
    "               Bucket='my-first-bucket-128341164379', \n",
    "               Key='table.html',\n",
    "               ExtraArgs={'ContentType': 'text/html', 'ACL': 'public-read'})"
   ]
  },
  {
   "cell_type": "code",
   "execution_count": null,
   "metadata": {},
   "outputs": [],
   "source": [
    "# Upload an image to S3\n",
    "s3.upload_file(Filename='image.png',\n",
    "               Bucket='my-first-bucket-128341164379', \n",
    "               Key='image.png', ExtraArgs={'ContentType': 'image/png', 'ACL': 'private'})"
   ]
  },
  {
   "cell_type": "code",
   "execution_count": 33,
   "metadata": {},
   "outputs": [
    {
     "data": {
      "text/html": [
       "<div>\n",
       "<style scoped>\n",
       "    .dataframe tbody tr th:only-of-type {\n",
       "        vertical-align: middle;\n",
       "    }\n",
       "\n",
       "    .dataframe tbody tr th {\n",
       "        vertical-align: top;\n",
       "    }\n",
       "\n",
       "    .dataframe thead th {\n",
       "        text-align: right;\n",
       "    }\n",
       "</style>\n",
       "<table border=\"1\" class=\"dataframe\">\n",
       "  <thead>\n",
       "    <tr style=\"text-align: right;\">\n",
       "      <th></th>\n",
       "      <th>Key</th>\n",
       "      <th>LastModified</th>\n",
       "      <th>ETag</th>\n",
       "      <th>Size</th>\n",
       "      <th>StorageClass</th>\n",
       "      <th>Owner</th>\n",
       "    </tr>\n",
       "  </thead>\n",
       "  <tbody>\n",
       "    <tr>\n",
       "      <th>0</th>\n",
       "      <td>planes.csv</td>\n",
       "      <td>2022-11-25 15:27:19+00:00</td>\n",
       "      <td>\"42949138987d62284b36668386cefb76\"</td>\n",
       "      <td>219326</td>\n",
       "      <td>STANDARD</td>\n",
       "      <td>{'ID': '433f8c3ff6d834c99c6a33e91277f031d89d8a...</td>\n",
       "    </tr>\n",
       "  </tbody>\n",
       "</table>\n",
       "</div>"
      ],
      "text/plain": [
       "          Key              LastModified                                ETag  \\\n",
       "0  planes.csv 2022-11-25 15:27:19+00:00  \"42949138987d62284b36668386cefb76\"   \n",
       "\n",
       "     Size StorageClass                                              Owner  \n",
       "0  219326     STANDARD  {'ID': '433f8c3ff6d834c99c6a33e91277f031d89d8a...  "
      ]
     },
     "execution_count": 33,
     "metadata": {},
     "output_type": "execute_result"
    }
   ],
   "source": [
    "# Upload IANA media types to S3\n",
    "# IANA media types are a list of all the different types of files that can be on the internet(JSON, HTML, PNG, PDF, etc.)\n",
    "# Generate an index page\n",
    "r = s3.list_objects(Bucket='my-first-bucket-128341164379', Prefix='p')\n",
    "\n",
    "#Convert the response to a DataFrame\n",
    "objects_df = pd.DataFrame(r['Contents'])\n",
    "objects_df.head()\n",
    "#r"
   ]
  },
  {
   "cell_type": "code",
   "execution_count": 34,
   "metadata": {},
   "outputs": [],
   "source": [
    "# We create a column 'Link' where we create the URL for every key in the object.\n",
    "base_url = \"https://{}.s3.amazonaws.com\".format('my-first-bucket-128341164379')\n",
    "objects_df['Link'] = base_url + '/' + objects_df['Key']"
   ]
  },
  {
   "cell_type": "code",
   "execution_count": 41,
   "metadata": {},
   "outputs": [],
   "source": [
    "# Then we convert the DataFrame to HTML\n",
    "objects_df.to_html('report.html', render_links=True, columns=['Key', 'Link'], border=1)\n"
   ]
  },
  {
   "cell_type": "code",
   "execution_count": 44,
   "metadata": {},
   "outputs": [],
   "source": [
    "# Upload the HTML file to S3\n",
    "# It will be public, so anyone can see it\n",
    "\n",
    "s3.upload_file(Filename='report.html',\n",
    "               Bucket='my-first-bucket-128341164379', \n",
    "               Key='report.html', \n",
    "               ExtraArgs={'ContentType': 'text/html', 'ACL': 'public-read'})\n",
    "# https://my-first-bucket-128341164379.s3.eu-central-1.amazonaws.com/report.html"
   ]
  },
  {
   "cell_type": "markdown",
   "metadata": {},
   "source": [
    "### The Steps\n",
    "#### Prepare the data\n",
    "1. Download files for month from the raw data bucket.\n",
    "2. Concatenate them into one csv.\n",
    "3. Create an aggregated DataFrame\n",
    "#### Create the report \n",
    "1. Write a DataFrame to CSV and HTML.\n",
    "2. Generate a Bokeh plot, save as HTML.\n",
    "#### Upload report to sharable website\n",
    "1. Create `reports` bucket.\n",
    "2. Upload all three files for the month to S3.\n",
    "3. Generate an index.html file. that lists all the files.\n",
    "4. Get the website URL!\n",
    "\n",
    "\n",
    "*Raw Data Bucket*\n",
    "1. Private files\n",
    "2. Daily csvs of request from App\n",
    "3. Raw data\n",
    "4. This bucket contains daily CSVs\n",
    "5. Every CSV has rows for every request that was made in the GetItDone app that day."
   ]
  },
  {
   "cell_type": "code",
   "execution_count": null,
   "metadata": {},
   "outputs": [],
   "source": [
    "# Create list to hold our DataFrames\n",
    "df = list = [ ]\n",
    "\n",
    "# Request the list of objects in the bucket with the prefix 'p'\n",
    "response = s3.list_objects(Bucket='my-first-bucket-128341164379', Prefix='p')\n",
    "\n",
    "# Get response contents\n",
    "request_files = response['Contents']"
   ]
  },
  {
   "cell_type": "code",
   "execution_count": null,
   "metadata": {},
   "outputs": [],
   "source": [
    "# Iterate over each object\n",
    "# we will iterate over each object, and load its StreamingBody using get_object.\n",
    "# We can't use the Object URL because it's private\n",
    "for file in request_files:\n",
    "    obj = s3.get_object(Bucket='my-first-bucket-128341164379', Key=file['Key'])\n",
    "    \n",
    "    # Read it as DataFrame\n",
    "    obj_df= pd.read_csv(obj['Body'])\n",
    "    \n",
    "    # Append to list\n",
    "    # So we will have a list of 31 dataframes, one for each dat in the df_list variable\n",
    "    df_list.append(obj_df)"
   ]
  },
  {
   "cell_type": "code",
   "execution_count": null,
   "metadata": {},
   "outputs": [],
   "source": [
    "# Concatenate all the DataFrames in the list\n",
    "df = pd.concat(df_list)\n",
    "\n",
    "# Preview the resulting DataFrame\n",
    "df.head()"
   ]
  },
  {
   "cell_type": "code",
   "execution_count": null,
   "metadata": {},
   "outputs": [],
   "source": [
    "#Create aggregated reports\n",
    "# to csv\n",
    "df.to_csv('jan_final_report.csv')\n",
    "# to html\n",
    "df.to_html('jan_final_report.html', render_links=True, columns=['name', 'url'], border=0)\n"
   ]
  },
  {
   "cell_type": "code",
   "execution_count": null,
   "metadata": {},
   "outputs": [],
   "source": [
    "#Upload Aggregated CSV to S3\n",
    "s3.upload_file(Filename='jan_final_report.csv', \n",
    "               Key = '2022/jan/jan_final_report.csv', \n",
    "               Bucket='my-first-bucket-128341164379', \n",
    "               ExtraArgs={'ContentType': 'text/csv', 'ACL': 'public-read'})"
   ]
  },
  {
   "cell_type": "code",
   "execution_count": null,
   "metadata": {},
   "outputs": [],
   "source": [
    "# Upload Aggregated HTML table to S3\n",
    "s3.upload_file(Filename='jan_final_report.html',\n",
    "               Key = '2022/jan/jan_final_report.html',\n",
    "               Bucket='my-first-bucket-128341164379',\n",
    "               ExtraArgs={'ContentType': 'text/html', 'ACL': 'public-read'})"
   ]
  },
  {
   "cell_type": "code",
   "execution_count": null,
   "metadata": {},
   "outputs": [],
   "source": [
    "# Create index.html\n",
    "# List the gid-reports bucket objects starting with 2019/\n",
    "r = s3.list_objects(Bucket='my-first-bucket-128341164379', Prefix='2022/')\n",
    "# Convert the response to a DataFrame\n",
    "obj_df = pd.DataFrame(r['Contents'])\n",
    "# Finally, we create a column 'Link' where we create the URL for every key in the object.\n",
    "base_url = \"https://{}.s3.amazonaws.com\".format('my-first-bucket-128341164379')\n",
    "obj_df['Link'] = base_url + '/' + obj_df['Key']"
   ]
  },
  {
   "cell_type": "code",
   "execution_count": null,
   "metadata": {},
   "outputs": [],
   "source": [
    "# Write DataFrame to HTML\n",
    "objects_df.to_html('report_listing.html',\n",
    "                   render_links=True, \n",
    "                   columns=['Key', 'Link', 'Size', 'LastModified'], \n",
    "                   border=1)"
   ]
  },
  {
   "cell_type": "code",
   "execution_count": null,
   "metadata": {},
   "outputs": [],
   "source": [
    "# Upload the file to my-first-bucket-128341164379 bucket root\n",
    "s3.upload_file(Filename='report_listing.html', \n",
    "               Key = 'report_listing.html',\n",
    "               Bucket='my-first-bucket-128341164379', \n",
    "               ExtraArgs={'ContentType': 'text/html', \n",
    "                          'ACL': 'public-read'})\n",
    "# Get the URL of the index!"
   ]
  },
  {
   "cell_type": "code",
   "execution_count": null,
   "metadata": {},
   "outputs": [],
   "source": []
  }
 ],
 "metadata": {
  "kernelspec": {
   "display_name": "Python 3.10.6 ('pvenv': venv)",
   "language": "python",
   "name": "python3"
  },
  "language_info": {
   "codemirror_mode": {
    "name": "ipython",
    "version": 3
   },
   "file_extension": ".py",
   "mimetype": "text/x-python",
   "name": "python",
   "nbconvert_exporter": "python",
   "pygments_lexer": "ipython3",
   "version": "3.10.6"
  },
  "orig_nbformat": 4,
  "vscode": {
   "interpreter": {
    "hash": "70f52df3629032df417c275848baf52e11c1f5ebc407e80c94db62ac8b07ff2d"
   }
  }
 },
 "nbformat": 4,
 "nbformat_minor": 2
}
