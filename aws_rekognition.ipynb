{
 "cells": [
  {
   "cell_type": "code",
   "execution_count": 4,
   "metadata": {},
   "outputs": [],
   "source": [
    "import boto3\n",
    "import pandas as pd"
   ]
  },
  {
   "cell_type": "code",
   "execution_count": 5,
   "metadata": {},
   "outputs": [],
   "source": [
    "from dotenv import load_dotenv\n",
    "import os\n",
    "load_dotenv()\n",
    "#environment variables\n",
    "ACCESS_KEY_ID = os.getenv(\"ACCESS_KEY_ID\")\n",
    "AWS_SECRET_KEY = os.getenv(\"AWS_SECRET_KEY\")\n"
   ]
  },
  {
   "cell_type": "code",
   "execution_count": 6,
   "metadata": {},
   "outputs": [],
   "source": [
    "# Initialize the S3 client\n",
    "s3= boto3.client('s3',\n",
    "                 region_name='eu-central-1',\n",
    "                 aws_access_key_id=f'{ACCESS_KEY_ID}',\n",
    "                 aws_secret_access_key=f'{AWS_SECRET_KEY}')"
   ]
  },
  {
   "cell_type": "code",
   "execution_count": 7,
   "metadata": {},
   "outputs": [],
   "source": [
    "# Upload the file\n",
    "s3.upload_file(Filename = '/Users/ssamilozkan/Desktop/aws_boto/dataset/image.jpg',\n",
    "               Bucket = 'my-first-bucket-128341164379', \n",
    "               Key = 'image.jpg')"
   ]
  },
  {
   "cell_type": "code",
   "execution_count": 8,
   "metadata": {},
   "outputs": [],
   "source": [
    "# Object detection\n",
    "# Initialize the Rekognition client\n",
    "rekog = boto3.client('rekognition', \n",
    "                     region_name='eu-central-1',  \n",
    "                     aws_access_key_id=f'{ACCESS_KEY_ID}',\n",
    "                     aws_secret_access_key=f'{AWS_SECRET_KEY}')"
   ]
  },
  {
   "cell_type": "code",
   "execution_count": null,
   "metadata": {},
   "outputs": [],
   "source": [
    "# DETECT LABELS!\n",
    "# Optionally, we can specify the max number of labels to return\n",
    "response = rekog.detect_labels(\n",
    "    Image={'S3Object':{'Bucket':'my-first-bucket-128341164379', 'Name':'image.jpg'}}, \n",
    "    MaxLabels=10, \n",
    "    MinConfidence=95)\n"
   ]
  }
 ],
 "metadata": {
  "kernelspec": {
   "display_name": "Python 3.10.6 ('pvenv': venv)",
   "language": "python",
   "name": "python3"
  },
  "language_info": {
   "codemirror_mode": {
    "name": "ipython",
    "version": 3
   },
   "file_extension": ".py",
   "mimetype": "text/x-python",
   "name": "python",
   "nbconvert_exporter": "python",
   "pygments_lexer": "ipython3",
   "version": "3.10.6"
  },
  "orig_nbformat": 4,
  "vscode": {
   "interpreter": {
    "hash": "70f52df3629032df417c275848baf52e11c1f5ebc407e80c94db62ac8b07ff2d"
   }
  }
 },
 "nbformat": 4,
 "nbformat_minor": 2
}
